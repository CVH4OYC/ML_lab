{
  "cells": [
    {
      "cell_type": "markdown",
      "metadata": {
        "id": "view-in-github",
        "colab_type": "text"
      },
      "source": [
        "<a href=\"https://colab.research.google.com/github/CVH4OYC/ML_lab/blob/main/_%D0%A4%D0%9C%D0%98_Reinforcement_learning_ipynb_.ipynb\" target=\"_parent\"><img src=\"https://colab.research.google.com/assets/colab-badge.svg\" alt=\"Open In Colab\"/></a>"
      ]
    },
    {
      "cell_type": "markdown",
      "metadata": {
        "id": "m2s4kN_QPQVe"
      },
      "source": [
        "# Введение в обучение с подкреплением  (Reinforcement Learning)\n",
        "\n",
        "\n",
        "<center>\n",
        "<img src=\"https://raw.githubusercontent.com/jcformanek/jcformanek.github.io/master/docs/assets/images/rl_in_space.png\" width=\"100%\" />\n",
        "</center>\n",
        "\n",
        "\n",
        "\n",
        "**Введение**\n",
        "\n",
        "На этом семинаре мы изучим обучение с подкреплением - тип машинного обучения без учителя, где агент учится выбирать действия, которые приводят к максимальному вознаграждению в долгосрочной перспективе. Обучение с подкреплением используется в широком спектре сложных задач, в том числе - в видеоиграх, например, [Atari](https://www.deepmind.com/blog/agent57-outperforming-the-human-atari-benchmark), [StarCraft II](https://www.deepmind.com/blog/alphastar-mastering-the-real-time-strategy-game-starcraft-ii) и [Dota II](https://openai.com/five/).\n",
        "\n",
        "На семинаре изучим классическую среду - [CartPole](https://www.gymlibrary.ml/environments/classic_control/cart_pole/), где агент должен научиться балансировать шестом на тележке (см лекцию), используя несколько различных подходов RL. По пути вы познакомитесь с некоторыми из самых важных концепций и терминологии в RL.\n",
        "\n",
        "**Темы:**\n",
        "* Reinforcement Learning (RL, Обучение с подкреплением)\n",
        "* Random Policy Search (Случайный поиск политики)\n",
        "* Policy Gradient (Градиент политики)\n",
        "* Q-Learning\n",
        "\n",
        "\n",
        "**Что надо сделать для лучшего понимания:**\n",
        "\n",
        "* почитать про библиотеку [JAX](https://github.com/google/jax).\n",
        "* вспомнить нейроки.\n",
        "\n"
      ]
    },
    {
      "cell_type": "markdown",
      "metadata": {
        "id": "6EqhIg1odqg0"
      },
      "source": [
        "### Настраиваем среду"
      ]
    },
    {
      "cell_type": "code",
      "execution_count": null,
      "metadata": {
        "id": "4boGA9rYdt9l"
      },
      "outputs": [],
      "source": [
        "# @title Установка необходимых пакетов (надо просто запустить!) { display-mode: \"form\" }\n",
        "# @markdown Может занять несколько минут\n",
        "%%capture\n",
        "!pip install jaxlib\n",
        "!pip install jax\n",
        "!pip install git+https://github.com/deepmind/dm-haiku\n",
        "!pip install gym==0.25\n",
        "!pip install gym[box2d]\n",
        "!pip install optax\n",
        "!pip install matplotlib\n",
        "!pip install chex\n",
        "!pip install gym[classic_control]"
      ]
    },
    {
      "cell_type": "code",
      "execution_count": null,
      "metadata": {
        "id": "gwbqggmcRjMy"
      },
      "outputs": [],
      "source": [
        "# @title Импорт необходимых пакетов (просто запустите ячейку) { display-mode: \"form\" }\n",
        "%%capture\n",
        "import copy\n",
        "from shutil import rmtree # deleting directories\n",
        "import random\n",
        "import collections # useful data structures\n",
        "import numpy as np\n",
        "import gym # reinforcement learning environments\n",
        "from gym.wrappers import RecordVideo\n",
        "import jax\n",
        "import jax.numpy as jnp # jax numpy\n",
        "import haiku as hk # jax neural network library\n",
        "import optax # jax optimizer library\n",
        "import matplotlib.pyplot as plt # graph plotting library\n",
        "from IPython.display import HTML\n",
        "from base64 import b64encode\n",
        "import chex\n",
        "\n",
        "# Hide warnings\n",
        "import warnings\n",
        "warnings.filterwarnings('ignore')"
      ]
    },
    {
      "cell_type": "markdown",
      "metadata": {
        "id": "-ZUp8i37dFbU"
      },
      "source": [
        "## 1. Ключевые концепции обучения с подкреплением\n",
        "\n",
        "Обучение с подкреплением (RL) является подразделом машинного обучения (ML). В отличие от таких областей, как контролируемое обучение, где мы даем примеры ожидаемого поведения нашим моделям, RL фокусируется на *целеориентированном* обучении из взаимодействий методом проб и ошибок. Алгоритмы RL изучают, что делать (т. е. какие оптимальные действия предпринять) в среде, чтобы максимизировать некий сигнал вознаграждения. В таких условиях, как видеоигра, сигналом вознаграждения может быть счет игры, т. е. алгоритмы RL будут пытаться максимизировать счет в игре, выбирая лучшие действия.\n",
        "\n",
        "<center>\n",
        "<img src=\"https://pettingzoo.farama.org/_images/environments-demo.gif\" width=\"40%\" />\n",
        "</center>\n",
        "\n",
        "[*Image Source*](https://pettingzoo.farama.org/)\n",
        "\n",
        "Другими словами, в RL у нас есть **агент**, который воспринимает **наблюдение** $o_t$ текущего состояния $s_t$ **окружающей среды** и должен выбрать **действие** $a_t$ для выполнения.\n",
        "\n",
        "Затем окружающая среда переходит в новое состояние $s_{t+1}$ в ответ на действие агента, а также дает агенту скалярное вознаграждение $r_t$, чтобы указать, насколько хорошим или плохим было выбранное действие, учитывая состояние окружающей среды.\n",
        "\n",
        "Целью в RL является максимизация агентом суммы вознаграждения, которое он получает от окружающей среды с течением времени. Нижний индекс $t$ используется для указания номера временного шага, т. е. $s_0$ - это состояние окружающей среды на начальном временном шаге, а $a_{99}$ - это действие агента на $99-м$ временном шаге."
      ]
    },
    {
      "cell_type": "markdown",
      "metadata": {
        "id": "Ghgy69hFRjMz"
      },
      "source": [
        "### Среда - OpenAI Gym\n",
        "Как упоминалось выше, среда получает от агента действие $a_t$ и возвращает вознаграждение $r_t$ и наблюдение $o_t$.\n",
        "\n",
        "OpenAI разработал пакет для Python под названием **Gym**, который включает реализации популярных сред и простой интерфейс для взаимодействия агента RL. Чтобы использовать поддерживаемую [среду gym](https://www.gymlibrary.ml/), все, что вам нужно сделать, это передать имя среды в функцию  `gym.make(<environment_name>)`.\n",
        "\n",
        "В этом уроке мы будем использовать простую среду под названием **CartPole**. В CartPole задача агента — научиться балансировать на шесте как можно дольше, перемещая тележку *влево* или *вправо*.\n",
        "\n",
        "<img src=\"https://user-images.githubusercontent.com/10854026/32486103-f15f19de-c3a5-11e7-81de-0605df939497.gif\" width=\"50%\" />"
      ]
    },
    {
      "cell_type": "code",
      "execution_count": null,
      "metadata": {
        "id": "WfxzajMYRjMz"
      },
      "outputs": [],
      "source": [
        "# Create the environment\n",
        "env_name = \"CartPole-v0\"\n",
        "env = gym.make(env_name)"
      ]
    },
    {
      "cell_type": "markdown",
      "metadata": {
        "id": "y_BbftaJj3zu"
      },
      "source": [
        "### Состояние (States) и Наблюдение (Observations) - $s_t$ and $o_t$\n",
        "\n",
        "В RL агент воспринимает наблюдение за состоянием среды. В некоторых настройках наблюдение может включать всю информацию, лежащую в основе состояния среды. Такая среда называется **полностью наблюдаемой**. В других настройках агент может получать только частичную информацию о состоянии среды в своем наблюдении. Такая среда называется **частично наблюдаемой**.\n",
        "\n",
        "В оставшейся части этого руководства мы будем предполагать, что среда полностью наблюдаема, и поэтому будем использовать состояние $s_t$ и наблюдение $o_t$ взаимозаменяемо. В Gym мы получаем начальное наблюдение из среды, вызывая функцию `env.reset()`."
      ]
    },
    {
      "cell_type": "code",
      "execution_count": null,
      "metadata": {
        "id": "HdS8nqOgRjM0",
        "colab": {
          "base_uri": "https://localhost:8080/"
        },
        "outputId": "3af09954-474d-4806-9fd5-9aaa9319c38c"
      },
      "outputs": [
        {
          "output_type": "stream",
          "name": "stdout",
          "text": [
            "Initial State:: [-0.03982877 -0.00942248  0.01559474 -0.03179404]\n",
            "Environment Obs Space Shape: (4,)\n"
          ]
        }
      ],
      "source": [
        "# Reset the environment\n",
        "s_0 = env.reset()\n",
        "print(\"Initial State::\", s_0)\n",
        "\n",
        "# Get environment obs space\n",
        "obs_shape = env.observation_space.shape\n",
        "print(\"Environment Obs Space Shape:\", obs_shape)"
      ]
    },
    {
      "cell_type": "markdown",
      "metadata": {
        "id": "pUNX6mbotABo"
      },
      "source": [
        "В CartPole состояние окружающей среды представлено четырьмя числами: *угловое положение полюса, угловая скорость полюса, положение тележки, скорость тележки*."
      ]
    },
    {
      "cell_type": "markdown",
      "metadata": {
        "id": "hL1Nkgy7nUfn"
      },
      "source": [
        "### Действия (Actions) - $a_t$\n",
        "\n",
        "В RL действия обычно либо **дискретные**, либо **непрерывные**. Непрерывные действия задаются вектором действительных чисел. Дискретные действия задаются целочисленным значением. В средах, где мы можем подсчитать конечный набор действий, мы обычно используем дискретные действия.\n",
        "\n",
        "В CartPole есть только два действия: *влево* и *вправо*. Таким образом, действия могут быть представлены целыми числами $0$ и $1$. В gym мы можем легко получить список возможных действий следующим образом:"
      ]
    },
    {
      "cell_type": "code",
      "execution_count": null,
      "metadata": {
        "id": "uOLZqU_LpIXh",
        "colab": {
          "base_uri": "https://localhost:8080/"
        },
        "outputId": "a8c8e030-684b-4a4c-f324-e3a891e49fd4"
      },
      "outputs": [
        {
          "output_type": "stream",
          "name": "stdout",
          "text": [
            "Environment action space: Discrete(2)\n",
            "Number of actions: 2\n"
          ]
        }
      ],
      "source": [
        "# Get action space - e.g. discrete or continuous\n",
        "print(f\"Environment action space: {env.action_space}\")\n",
        "\n",
        "# Get num actions\n",
        "num_actions = env.action_space.n\n",
        "print(f\"Number of actions: {num_actions}\")"
      ]
    },
    {
      "cell_type": "markdown",
      "metadata": {
        "id": "tRsflxbDpoPm"
      },
      "source": [
        "### Политика агента (The Agent's Policy) - $\\pi$\n",
        "\n",
        "В RL агент выбирает действия на основе полученных наблюдений. Мы можем представить процесс выбора действия агента как функцию, которая принимает наблюдение в качестве входных данных и возвращает действие в качестве выходных данных. В RL мы обычно называем эту функцию **политикой** агента и обозначаем ее $\\pi(s_t)=a_t$. В RL мы обычно параметризуем нашу политику каким-либо образом, а затем пытаемся узнать оптимальные параметры. Параметризованная политика обычно обозначается $\\pi_\\theta$, где $\\theta$ — это набор параметров.\n",
        "\n",
        "**Упражнение 1:** В качестве упражнения давайте реализуем простую политику, которая принимает набор параметров и наблюдение в качестве входных данных и возвращает действие. Предположим, что наблюдение — это вектор из четырех чисел, как наблюдение CartPole, и что действие должно быть либо $0$, либо $1$. Предположим также, что параметры — это вектор из четырех действительных чисел. Тогда действие должно быть вычислено следующим образом.\n",
        "\n",
        "\n",
        "1. Вычислите [скалярное произведение векторов](https://www.mathsisfun.com/algebra/vectors-dot-product.html) между наблюдением и параметрами.\n",
        "2. Если результат больше нуля, верните действие $1$.\n",
        "3. В противном случае верните действие $0$.\n",
        "\n",
        "В этом упражнении мы постараемся использовать JAX как можно чаще. Поэтому постарайтесь использовать методы JAX для этой задачи. Ниже приведены некоторые полезные методы, которые вы можете использовать. Вам нужно будет завершить код в блоке ниже, заменив `...` правильным кодом.\n",
        "\n",
        "\n",
        "**Полезные методы:**\n",
        "* Вычислите скалярное произведение векторов с помощью `jax.numpy.dot` ([docs](https://jax.readthedocs.io/en/latest/_autosummary/jax.numpy.dot.html)).\n",
        "\n",
        "* Когда вы пытаетесь условно присвоить значение $0$ или $1$ действию на основе результата скалярного произведения, вам следует использовать `jax.lax.select` ([docs](https://jax.readthedocs.io/en/latest/_autosummary/jax.lax.select.html#jax.lax.select)).\n",
        "\n",
        "Метод `jax.lax.select` принимает три аргумента в качестве входных данных. Первый аргумент — это оператор, который будет оцениваться как `True` или `False`.\n",
        "\n",
        "Если оператор равен `True`, то `jax.lax.select` вернет свой второй аргумент.\n",
        "\n",
        "Если оператор имеет значение `False`, `jax.lax.select` вернет свой третий аргумент.\n",
        "\n"
      ]
    },
    {
      "cell_type": "code",
      "execution_count": null,
      "metadata": {
        "id": "KSGCd7XB1z8k"
      },
      "outputs": [],
      "source": [
        "def linear_policy(params, obs):\n",
        "  \"\"\"A simple linear policy\n",
        "\n",
        "  Args:\n",
        "    params: a vector of four real-numbers that give the parameters of the policy\n",
        "    obs: a vector of four real-numbers that give the agent's observation\n",
        "\n",
        "  Returns:\n",
        "    a discrete action given by a 0 or 1\n",
        "  \"\"\"\n",
        "  # YOUR CODE\n",
        "  dot_product_result = jnp.dot(params, obs)\n",
        "\n",
        "  action = jax.lax.select(\n",
        "      dot_product_result > 0,  # boolean statement\n",
        "      1,                      # result when the statement is True\n",
        "      0                       # result when the statement is False\n",
        "  )\n",
        "  # END YOUR CODE\n",
        "  return action"
      ]
    },
    {
      "cell_type": "code",
      "execution_count": null,
      "metadata": {
        "id": "9EnnBvceb1f3",
        "colab": {
          "base_uri": "https://localhost:8080/"
        },
        "outputId": "c3e446b7-ea06-46fd-81ff-1423683d675c"
      },
      "outputs": [
        {
          "output_type": "stream",
          "name": "stdout",
          "text": [
            "Your function is correct!\n"
          ]
        }
      ],
      "source": [
        "# @title Проверка упр 1  { display-mode: \"form\" }\n",
        "\n",
        "def check_linear_policy(linear_policy):\n",
        "  fixed_obs = jnp.array([1,1,2,4])\n",
        "\n",
        "  # check case1 - negative dot product.\n",
        "  # weights\n",
        "  params1 = jnp.array([1,1,1,1])\n",
        "  params2 = jnp.array([-1,-1,-1,-1])\n",
        "\n",
        "  hint1 = f\"Неправильный ответ, ваша линейная политика неверна. Действие при \\\n",
        "obs={fixed_obs} и params={params1} должно быть 1\"\n",
        "\n",
        "  hint2 = f\"Неправильный ответ, ваша линейная политика неверна. Действие при \\\n",
        "obs={fixed_obs} и params={params2} должно быть 0\"\n",
        "\n",
        "  hint = None\n",
        "  if linear_policy(params1, fixed_obs) != 1:\n",
        "    hint = hint1\n",
        "  elif linear_policy(params2, fixed_obs) != 0:\n",
        "    hint = hint2\n",
        "\n",
        "  if hint is not None:\n",
        "    print(hint)\n",
        "  else:\n",
        "    print(\"Your function is correct!\")\n",
        "\n",
        "try:\n",
        "  check_linear_policy(linear_policy)\n",
        "except Exception as e:\n",
        "    print(\"An Error Occured: {}\".format(e))"
      ]
    },
    {
      "cell_type": "markdown",
      "metadata": {
        "id": "PkuvT-jf6Ieh"
      },
      "source": [
        "### Функция перехода среды - $P$\n",
        "\n",
        "Теперь, когда у нас есть политика, мы можем передавать действия от агента среде. Затем среда перейдет в новое состояние в ответ на действие агента.\n",
        "\n",
        "В RL мы моделируем этот процесс с помощью **функции перехода состояния** $P$, которая принимает текущее состояние $s_t$ и действие $a_t$ в качестве входных данных и возвращает следующее состояние $s_{t+1}$ в качестве выходных данных:\n",
        "\n",
        "<center>\n",
        "$s_{t+1}=P(s_t, a_t)$\n",
        "</center>\n",
        "\n",
        "В gym мы можем передавать действия среде, вызывая функцию `env.step(<action>)`. Затем функция вернет четыре значения:\n",
        "- **следующее наблюдение**\n",
        "- **награду** за выполненное действие\n",
        "- логический флаг, указывающий, **завершена** игра\n",
        "- некоторую **дополнительную** информацию."
      ]
    },
    {
      "cell_type": "code",
      "execution_count": null,
      "metadata": {
        "id": "hh0j9-Tk7olb",
        "colab": {
          "base_uri": "https://localhost:8080/"
        },
        "outputId": "21cb0177-c5f7-49ae-f0b8-4ec90d7cc96f"
      },
      "outputs": [
        {
          "output_type": "stream",
          "name": "stdout",
          "text": [
            "Observation: [ 0.00812294  0.04537899 -0.00198687 -0.00726835]\n",
            "Action: 1\n",
            "Next observation: [ 0.00903052  0.24052939 -0.00213224 -0.3005775 ]\n",
            "Reward: 1.0\n",
            "Game is done: False\n"
          ]
        }
      ],
      "source": [
        "# Get the initial obs by resetting the env\n",
        "initial_obs = env.reset()\n",
        "\n",
        "# Randomly sample actions from env\n",
        "action = env.action_space.sample()\n",
        "\n",
        "# Step the environment\n",
        "next_obs, reward, done, info = env.step(action)\n",
        "\n",
        "print(\"Observation:\", initial_obs)\n",
        "print(\"Action:\", action)\n",
        "print(\"Next observation:\", next_obs)\n",
        "print(\"Reward:\", reward)\n",
        "print(\"Game is done:\", done)"
      ]
    },
    {
      "cell_type": "markdown",
      "metadata": {
        "id": "bX9iZtu48UYn"
      },
      "source": [
        "### Возврат эпизода - $R_t$\n",
        "\n",
        "В RL мы обычно разбиваем взаимодействие агента с окружающей средой на **эпизоды**. Сумма всех вознаграждений, собранных во время эпизода, - это то, что мы называем **возвратом** эпизода - $R_t$:\n",
        "\n",
        "<center>\n",
        "$R_t=\\sum_{t=0}^Tr_t$,\n",
        "</center>\n",
        "\n",
        "где $r_t$ - это вознаграждение в момент времени $t$, а $T$ - это последний временной шаг. Цель в RL - выбрать действия, которые максимизируют этот ожидаемый будущий возврат $R_t$."
      ]
    },
    {
      "cell_type": "markdown",
      "metadata": {
        "id": "y6KZA1Nq9p47"
      },
      "source": [
        "### Цикл агент-среда\n",
        "Теперь, когда мы знаем, что такое политика, и знаем, как пошагово проходить среду, давайте закроем цикл агент-среда.\n",
        "\n",
        "**Упражнение 2:** Напишите функцию, которая запускает один эпизод CartPole, последовательно выбирая действия и пошагово проходя среду. Вам следует использовать линейную политику, которую мы определили ранее, для выбора действий. Функция должна отслеживать полученное вознаграждение и выводить возврат в конце эпизода.\n",
        "\n",
        "В CartPole агент получает вознаграждение `1` за каждый временной шаг, когда шест все еще стоит вертикально. Если шест падает, игра заканчивается, и агент больше не получает вознаграждения. Игра также заканчивается после `200` временных шагов, поэтому максимальное вознаграждение, которое может получить агент, составляет `200`."
      ]
    },
    {
      "cell_type": "code",
      "execution_count": null,
      "metadata": {
        "id": "Buy0X7mi-gHP"
      },
      "outputs": [],
      "source": [
        "def run_episode(env):\n",
        "  episode_return = 0 # counter to keep track of rewards\n",
        "  done = False # initially set to False\n",
        "  params = jnp.array([1,-2,2,-1]) # fixed policy parameters\n",
        "\n",
        "  ## YOUR CODE\n",
        "\n",
        "  obs = env.reset() # TODO: get the initial obs from the env\n",
        "\n",
        "  while not done: # loop until episode is done\n",
        "\n",
        "    action = linear_policy(params, obs) # TODO: compute action using linear policy\n",
        "    action = np.array(action) # We need to the convert the action from the policy to a np.array\n",
        "\n",
        "    obs, reward, done, info = env.step(action) # TODO: step the environment\n",
        "\n",
        "    episode_return += reward # TODO: add reward to episode return\n",
        "\n",
        "  return episode_return"
      ]
    },
    {
      "cell_type": "code",
      "execution_count": null,
      "metadata": {
        "id": "bA2Orj9PVbKO",
        "colab": {
          "base_uri": "https://localhost:8080/"
        },
        "outputId": "fd36adb5-5cda-453a-a37a-9566b2a3d4c2"
      },
      "outputs": [
        {
          "output_type": "stream",
          "name": "stdout",
          "text": [
            "Looks correct!\n"
          ]
        }
      ],
      "source": [
        "# @title Проверка упр 2 (run me) { display-mode: \"form\" }\n",
        "\n",
        "try:\n",
        "  env.seed(42)\n",
        "  if run_episode(env) == 31:\n",
        "    print(\"Looks correct!\")\n",
        "  else:\n",
        "    print(\"Looks like your implementation might be wrong.\")\n",
        "except Exception as e:\n",
        "    print(\"An Error Occured: {}\".format(e))"
      ]
    },
    {
      "cell_type": "markdown",
      "metadata": {
        "id": "fUGdzHxJnZGl"
      },
      "source": [
        "В CartPole среда считается решенной, когда агент может надежно достичь возврата эпизода 500. Как вы можете видеть, наша текущая политика далека от оптимальной.\n",
        "\n",
        "Один из способов найти оптимальную политику — это случайным образом пробовать разные политики, пока не найдем оптимальную. Эта стратегия называется случайным поиском политики и может быть на удивление эффективной.\n",
        "\n",
        "Прежде чем мы реализуем случайный поиск политики, давайте быстро рассмотрим общий цикл обучения RL, который мы будем использовать для реализации алгоритмов в оставшейся части этого руководства.\n",
        "\n",
        "### Цикл обучения RL общего назначения\n",
        "Мы реализовали для вас цикл обучения RL общего назначения. Цикл обучения принимает несколько аргументов в качестве входных данных, но три наиболее важных для понимания — это `agent_select_action_func`, `agent_learn_func` и `agent_memory`.\n",
        "\n",
        "* `agent_select_action_func` — это функция, которую мы определяем и можем передать в цикл обучения. Функция принимает наблюдение и набор `agent_params` в качестве входных данных и должна возвращать действие.\n",
        "* `agent_learn_func` — это еще один метод, который мы определяем и передаем в цикл обучения. Он должен принимать параметры агента и некоторые «воспоминания» в качестве входных данных, а затем обновлять и возвращать агентам новые параметры.\n",
        "* `agent_memory` — это модуль общего назначения, который мы определяем, который может хранить некоторую релевантную информацию об опыте агента в среде, которую можно использовать в `agent_learn_func`.\n",
        "\n",
        "Ниже приведена функция цикла обучения, которую мы реализовали для вас. Вы можете просмотреть код и попытаться понять его, но это не обязательно. Таким образом, мы скрыли код по умолчанию, просто убедитесь, что вы запустили ячейку кода, прежде чем двигаться дальше, потому что цикл обучения далее в коде."
      ]
    },
    {
      "cell_type": "code",
      "execution_count": null,
      "metadata": {
        "id": "ZWBwz3zMRjM0"
      },
      "outputs": [],
      "source": [
        "#@title Training loop (run me) { display-mode: \"form\" }\n",
        "\n",
        "# NamedTuple to store transitions\n",
        "Transition = collections.namedtuple(\"Transition\", [\"obs\", \"action\", \"reward\", \"next_obs\", \"done\"])\n",
        "\n",
        "# Training Loop\n",
        "def run_training_loop(env_name, agent_params, agent_select_action_func,\n",
        "    agent_actor_state=None, agent_learn_func=None, agent_learner_state=None,\n",
        "    agent_memory=None, num_episodes=1000, evaluator_period=100,\n",
        "    evaluation_episodes=8, learn_steps_per_episode=1,\n",
        "    train_every_timestep=False, video_subdir=\"\",):\n",
        "    \"\"\"\n",
        "    This function runs several episodes in an environment and periodically does\n",
        "    some agent learning and evaluation.\n",
        "\n",
        "    Args:\n",
        "        env: a gym environment.\n",
        "        agent_params: an object to store parameters that the agent uses.\n",
        "        agent_select_func: a function that does action selection for the agent.\n",
        "        agent_actor_state (optional): an object that stores the internal state\n",
        "            of the agents action selection function.\n",
        "        agent_learn_func (optional): a function that does some learning for the\n",
        "            agent by updating the agent parameters.\n",
        "        agent_learn_state (optional): an object that stores the internal state\n",
        "            of the agent learn function.\n",
        "        agent_memory (optional): an object for storing an retrieving historical\n",
        "            experience.\n",
        "        num_episodes: how many episodes to run.\n",
        "        evaluator_period: how often to run evaluation.\n",
        "        evaluation_episodes: how many evaluation episodes to run.\n",
        "        train_every_timestep: whether to train every timestep rather than at the end\n",
        "            of the episode.\n",
        "        video_subdir: subdirectory to store epsiode recordings.\n",
        "\n",
        "    Returns:\n",
        "        episode_returns: list of all the episode returns.\n",
        "        evaluator_episode_returns: list of all the evaluator episode returns.\n",
        "    \"\"\"\n",
        "\n",
        "    # Setup Cartpole environment and recorder\n",
        "    env = gym.make(env_name, render_mode=\"rgb_array\") # training environment\n",
        "    eval_env = gym.make(env_name, render_mode=\"rgb_array\") # evaluation environment\n",
        "\n",
        "    # Video dir\n",
        "    video_dir = \"./video\"+\"/\"+video_subdir\n",
        "\n",
        "    # Clear video dir\n",
        "    try:\n",
        "      rmtree(video_dir)\n",
        "    except:\n",
        "      pass\n",
        "\n",
        "    # Wrap in recorder\n",
        "    env = RecordVideo(env, video_dir+\"/train\", episode_trigger=lambda x: (x % evaluator_period) == 0)\n",
        "    eval_env = RecordVideo(eval_env, video_dir+\"/eval\", episode_trigger=lambda x: (x % evaluation_episodes) == 0)\n",
        "\n",
        "    # JAX random number generator\n",
        "    rng = hk.PRNGSequence(jax.random.PRNGKey(0))\n",
        "    env.seed(0) # seed environment for reproducability\n",
        "    random.seed(0)\n",
        "\n",
        "    episode_returns = [] # List to store history of episode returns.\n",
        "    evaluator_episode_returns = [] # List to store history of evaluator returns.\n",
        "    timesteps = 0\n",
        "    for episode in range(num_episodes):\n",
        "\n",
        "        # Reset environment.\n",
        "        obs = env.reset()\n",
        "        episode_return = 0\n",
        "        done = False\n",
        "\n",
        "        while not done:\n",
        "\n",
        "            # Agent select action.\n",
        "            action, agent_actor_state = agent_select_action_func(\n",
        "                                            next(rng),\n",
        "                                            agent_params,\n",
        "                                            agent_actor_state,\n",
        "                                            np.array(obs)\n",
        "                                        )\n",
        "\n",
        "            # Step environment.\n",
        "            next_obs, reward, done, _ = env.step(int(action))\n",
        "\n",
        "            # Pack into transition.\n",
        "            transition = Transition(obs, action, reward, next_obs, done)\n",
        "\n",
        "            # Add transition to memory.\n",
        "            if agent_memory: # check if agent has memory\n",
        "              agent_memory.push(transition)\n",
        "\n",
        "            # Add reward to episode return.\n",
        "            episode_return += reward\n",
        "\n",
        "            # Set obs to next obs before next environment step. CRITICAL!!!\n",
        "            obs = next_obs\n",
        "\n",
        "            # Increment timestep counter\n",
        "            timesteps += 1\n",
        "\n",
        "            # Maybe learn every timestep\n",
        "            if train_every_timestep and (timesteps % 4 == 0) and agent_memory and agent_memory.is_ready(): # Make sure memory is ready\n",
        "                # First sample memory and then pass the result to the learn function\n",
        "                memory = agent_memory.sample()\n",
        "                agent_params, agent_learner_state = agent_learn_func(\n",
        "                                                        next(rng),\n",
        "                                                        agent_params,\n",
        "                                                        agent_learner_state,\n",
        "                                                        memory\n",
        "                                                    )\n",
        "\n",
        "        episode_returns.append(episode_return)\n",
        "\n",
        "        # At the end of every episode we do a learn step.\n",
        "        if agent_memory and agent_memory.is_ready(): # Make sure memory is ready\n",
        "\n",
        "            for _ in range(learn_steps_per_episode):\n",
        "                # First sample memory and then pass the result to the learn function\n",
        "                memory = agent_memory.sample()\n",
        "                agent_params, agent_learner_state = agent_learn_func(\n",
        "                                                        next(rng),\n",
        "                                                        agent_params,\n",
        "                                                        agent_learner_state,\n",
        "                                                        memory\n",
        "                                                    )\n",
        "\n",
        "        if (episode % evaluator_period) == 0: # Do evaluation\n",
        "\n",
        "            evaluator_episode_return = 0\n",
        "            for eval_episode in range(evaluation_episodes):\n",
        "                obs = eval_env.reset()\n",
        "                done = False\n",
        "                while not done:\n",
        "                    action, _ = agent_select_action_func(\n",
        "                                    next(rng),\n",
        "                                    agent_params,\n",
        "                                    agent_actor_state,\n",
        "                                    np.array(obs),\n",
        "                                    evaluation=True\n",
        "                                )\n",
        "\n",
        "                    obs, reward, done, _ = eval_env.step(int(action))\n",
        "\n",
        "                    evaluator_episode_return += reward\n",
        "\n",
        "            evaluator_episode_return /= evaluation_episodes\n",
        "\n",
        "            evaluator_episode_returns.append(evaluator_episode_return)\n",
        "\n",
        "            logs = [\n",
        "                    f\"Episode: {episode}\",\n",
        "                    f\"Episode Return: {episode_return}\",\n",
        "                    f\"Average Episode Return: {np.mean(episode_returns[-20:])}\",\n",
        "                    f\"Evaluator Episode Return: {evaluator_episode_return}\"\n",
        "            ]\n",
        "\n",
        "            print(*logs, sep=\"\\t\") # Print the logs\n",
        "\n",
        "    env.close()\n",
        "    eval_env.close()\n",
        "\n",
        "    return episode_returns, evaluator_episode_returns"
      ]
    },
    {
      "cell_type": "markdown",
      "metadata": {
        "id": "CTPlIq4oDBPY"
      },
      "source": [
        "##2. Случайный поиск политики (RPS)\n",
        "В разделе 1 мы использовали фиксированный набор параметров для нашей политики. То есть мы не изучали параметры $\\pi$ $\\theta$, мы просто сохранили их фиксированными ( `params = [1,-2,2,-1]`).\n",
        "\n",
        "Теперь мы реализуем случайный поиск политики (RPS), который представляет собой алгоритм, который случайным образом пробует различные параметры политики и отслеживает лучшие параметры, найденные на данный момент. Мы скажем, что параметры политики $\\theta_A$ лучше параметров $\\theta_B$, если средний возврат эпизода, достигнутый за последние 20 эпизодов политикой с параметрами $\\theta_A$, больше, чем у политики с параметрами $\\theta_B$.\n",
        "\n",
        "Чтобы отслеживать «текущие» параметры, а также «лучшие» параметры, мы будем использовать [NamedTuple](https://www.geeksforgeeks.org/namedtuple-in-python/)."
      ]
    },
    {
      "cell_type": "code",
      "execution_count": null,
      "metadata": {
        "id": "1DcaC-PQRjM1",
        "colab": {
          "base_uri": "https://localhost:8080/"
        },
        "outputId": "d6f5c907-3888-4e71-c99a-5035347e2d36"
      },
      "outputs": [
        {
          "output_type": "stream",
          "name": "stdout",
          "text": [
            "Best params: [0. 0. 0. 0.]\n",
            "Current params: [-1. -1. -1. -1.]\n"
          ]
        }
      ],
      "source": [
        "# Parameter container for Random Policy Search\n",
        "RandomPolicySearchParams = collections.namedtuple(\"RandomPolicySearchParams\", [\"current\", \"best\"])\n",
        "\n",
        "# TEST: store two different sets of parameters\n",
        "current_params = np.ones(obs_shape) * -1\n",
        "best_params = np.zeros(obs_shape)\n",
        "rps_params = RandomPolicySearchParams(current_params, best_params)\n",
        "\n",
        "# How to access the best or current params.\n",
        "print(f\"Best params: {rps_params.best}\")\n",
        "print(f\"Current params: {rps_params.current}\")"
      ]
    },
    {
      "cell_type": "markdown",
      "metadata": {
        "id": "v91pDDzGex9a"
      },
      "source": [
        "Далее мы реализуем следующее:\n",
        "- **Функция выбора действия RPS** - определяет, как мы выбираем действия с учетом набора параметров.\n",
        "- **Модуль памяти RPS** - определяет, какой опыт хранить из взаимодействий со средой.\n",
        "- **Функция обучения RPS** - определяет, как мы обновляем и улучшаем параметры нашей политики."
      ]
    },
    {
      "cell_type": "markdown",
      "metadata": {
        "id": "0tExceGeGNYH"
      },
      "source": [
        "### Функция выбора действия RPS\n",
        "Давайте реализуем функцию с именем `random_policy_search_choose_action`, которую мы можем передать в цикл обучения. Функция должна принимать несколько аргументов, чтобы она могла хорошо взаимодействовать с нашим обобщенным циклом обучения, но вам нужно будет использовать только три из них - `params`, `obs` и `evaluation`.\n",
        "\n",
        "- `params` - это экземпляр `RandomPolicySearchParams` с \"current\" и \"best\".\n",
        "- `obs` - это последнее наблюдение из среды.\n",
        "- `evaluation` - это логическое значение, которое указывает, следует ли нам использовать параметры \"current\" или \"best\". Когда `evaluation==True`, мы должны использовать параметры \"best\", в противном случае мы должны использовать параметры \"current\".\n",
        "\n",
        "**Упражнение 3:** Реализуйте функцию `random_policy_search_choose_action`, как описано выше. Вам следует использовать метод `linear_policy`, который мы определили ранее. Вам также понадобится `jax.lax.select()` для условного возврата \"лучшего\" действия или \"текущего\" действия."
      ]
    },
    {
      "cell_type": "code",
      "execution_count": null,
      "metadata": {
        "id": "1kmwT35JRjM1"
      },
      "outputs": [],
      "source": [
        "def random_policy_search_choose_action(\n",
        "    key,\n",
        "    params,\n",
        "    actor_state,\n",
        "    obs,\n",
        "    evaluation=False\n",
        "):\n",
        "  \"\"\"Random policy search select action method.\n",
        "\n",
        "  Args:\n",
        "    key: a random number (seed). Not used in this function.\n",
        "    params: the agent's parameters. In this case an instance of `RandomPolicySearchParams`\n",
        "    actor_state: some extra information about the actor. Not used in this function.\n",
        "    obs: the latest observation.\n",
        "    evaluation: a boolean indicating whether to use the best \"parameters\" or the \"current\" ones.\n",
        "\n",
        "  Returns:\n",
        "    The chosen action and the updated actor_state. In this function the actor_state is not updated.\n",
        "  \"\"\"\n",
        "\n",
        "  # YOUR CODE\n",
        "\n",
        "  best_action = linear_policy(params.best, obs)\n",
        "\n",
        "  current_action = linear_policy(params.current, obs)\n",
        "\n",
        "  action = jax.lax.select(\n",
        "      evaluation,  # If evaluation is True\n",
        "      best_action,  # Use the best action\n",
        "      current_action  # Otherwise, use the current action\n",
        "  )\n",
        "\n",
        "  # END YOUR CODE\n",
        "\n",
        "  return action, actor_state"
      ]
    },
    {
      "cell_type": "code",
      "execution_count": null,
      "metadata": {
        "id": "YE4xoAgyI3kG",
        "colab": {
          "base_uri": "https://localhost:8080/"
        },
        "outputId": "bd11a234-55dd-400b-f55f-d698806564d5"
      },
      "outputs": [
        {
          "output_type": "stream",
          "name": "stdout",
          "text": [
            "Your function looks correct.\n"
          ]
        }
      ],
      "source": [
        "# @title Проверка упр 3 (run me) {display-mode: \"form\"}\n",
        "\n",
        "def check_random_policy_search_choose_action(choose_action):\n",
        "  key = None # not used\n",
        "  actor_state = None # not used\n",
        "\n",
        "  # obs\n",
        "  obs = np.ones(obs_shape)\n",
        "\n",
        "  evaluation=False\n",
        "  current_params = np.ones(obs_shape) * -1\n",
        "  best_params = np.ones(obs_shape)\n",
        "  rps_params = RandomPolicySearchParams(current_params, best_params)\n",
        "  action, actor_state = choose_action(key,rps_params,actor_state,obs,evaluation)\n",
        "  if action != 0:\n",
        "    return False\n",
        "\n",
        "  evaluation=True\n",
        "  current_params = np.ones(obs_shape) * -1\n",
        "  best_params = np.ones(obs_shape)\n",
        "  rps_params = RandomPolicySearchParams(current_params, best_params)\n",
        "  action, actor_state = choose_action(key,rps_params,actor_state,obs,evaluation)\n",
        "  if action != 1:\n",
        "    return False\n",
        "\n",
        "  return True\n",
        "\n",
        "try:\n",
        "  if check_random_policy_search_choose_action(random_policy_search_choose_action):\n",
        "    print(\"Your function looks correct.\")\n",
        "  else:\n",
        "    print(\"Your function looks incorrect.\")\n",
        "except Exception as e:\n",
        "    print(\"An Error Occured: {}\".format(e))"
      ]
    },
    {
      "cell_type": "markdown",
      "metadata": {
        "id": "6zu51ep7Sh0M"
      },
      "source": [
        "### Память агента RPS\n",
        "\n",
        "Для алгоритма поиска случайной политики нам нужно будет отслеживать средний возврат эпизода для последних 50 эпизодов. Помните, что мы сказали, что «текущие» параметры будут считаться «лучшими» параметрами, если средний возврат эпизода при использовании этих параметров больше предыдущего лучшего среднего возврата эпизода.\n",
        "\n",
        "Мы будем использовать интерфейс памяти общего назначения, который довольно прост. Модуль памяти должен иметь три метода. Первый — это функция `memory.push(<transition>)`, которая добавляет некоторую информацию о последнем переходе среды в память. Второй — это функция `memory.is_ready()`, которая проверяет, готова ли память к обучению. Наконец, функция `memory.sample()` должна возвращать последний набор воспоминаний, которые можно передать в `agent_learn_func`.\n",
        "\n",
        "#### Память среднего возврата эпизода\n",
        "Мы создали для вас простой модуль памяти агента. Он хранит `epsisode_returns` последних 20 эпизодов. Прочитайте нашу реализацию ниже и посмотрите, сможете ли вы ее понять. Метод `memory.sample()` возвращает средний возврат эпизода за последние 20 эпизодов."
      ]
    },
    {
      "cell_type": "code",
      "execution_count": null,
      "metadata": {
        "id": "YVkTBIK5RjM1"
      },
      "outputs": [],
      "source": [
        "class AverageEpisodeReturnBuffer:\n",
        "\n",
        "    def __init__(self, num_episodes_to_store=50):\n",
        "        \"\"\"\n",
        "        This class implements an agent memory that stores the average episode\n",
        "        return over the last 50 episodes.\n",
        "        \"\"\"\n",
        "        self.num_episodes_to_store = num_episodes_to_store\n",
        "        self.episode_return_buffer = []\n",
        "        self.current_episode_return = 0\n",
        "\n",
        "    def push(self, transition):\n",
        "        self.current_episode_return += transition.reward\n",
        "\n",
        "        if transition.done: # If the episode is done\n",
        "            # Add episode return to buffer\n",
        "            self.episode_return_buffer.append(self.current_episode_return)\n",
        "\n",
        "            # Reset episode return\n",
        "            self.current_episode_return = 0\n",
        "\n",
        "\n",
        "    def is_ready(self):\n",
        "        return len(self.episode_return_buffer) == self.num_episodes_to_store\n",
        "\n",
        "    def sample(self):\n",
        "        average_episode_return = np.mean(self.episode_return_buffer)\n",
        "\n",
        "        # Clear episode return buffer\n",
        "        self.episode_return_buffer = []\n",
        "\n",
        "        return average_episode_return"
      ]
    },
    {
      "cell_type": "markdown",
      "metadata": {
        "id": "0oXBsSa2KjWE"
      },
      "source": [
        "### Функция обучения RPS\n",
        "Наконец, нам нужно реализовать функцию `random_policy_search_learn` для нашего алгоритма поиска случайной политики. Функция обучения довольно проста. Все, что нам нужно сделать, это проверить, лучше ли текущие параметры, чем лучшие параметры. Если они лучше, то установите лучшие параметры в качестве текущих параметров и случайным образом сгенерируйте новый набор текущих параметров.\n",
        "\n",
        "**Упражнение 4:** Напишите функцию для случайной генерации новых весов с использованием JAX. Веса должны быть выбраны из интервала `[-2,2]`.\n",
        "\n",
        "**Полезные функции:**\n",
        "*   `jax.random.uniform` ([docs](https://jax.readthedocs.io/en/latest/_autosummary/jax.random.uniform.html#jax.random.uniform))\n",
        "\n"
      ]
    },
    {
      "cell_type": "code",
      "execution_count": null,
      "metadata": {
        "id": "8V2yFM2XMjGW"
      },
      "outputs": [],
      "source": [
        "def get_new_random_weights(random_key, old_weights, minval=-2.0, maxval=2.0):\n",
        "    new_weights_shape = old_weights.shape # you will need to use these values\n",
        "    new_weights_dtype = old_weights.dtype # you will need to use these values\n",
        "\n",
        "    # YOUR CODE\n",
        "\n",
        "    new_params = jax.random.uniform(\n",
        "    random_key,\n",
        "    shape=new_weights_shape,\n",
        "    dtype=new_weights_dtype,\n",
        "    minval=minval,\n",
        "    maxval=maxval)\n",
        "\n",
        "\n",
        "    # END YOUR CODE\n",
        "\n",
        "    return new_params"
      ]
    },
    {
      "cell_type": "code",
      "execution_count": null,
      "metadata": {
        "id": "T8ifHTKGQlAd",
        "colab": {
          "base_uri": "https://localhost:8080/"
        },
        "outputId": "f369453b-c234-4049-e6b8-3bcaa7b0d4b7"
      },
      "outputs": [
        {
          "output_type": "stream",
          "name": "stdout",
          "text": [
            "Function is correct!\n"
          ]
        }
      ],
      "source": [
        "# @title Проверка упр 4 (run me) {display-mode: \"form\"}\n",
        "\n",
        "def check_get_new_random_weights(get_new_random_weights):\n",
        "  old_weights = np.ones(obs_shape, \"float32\")\n",
        "  random_key = jax.random.PRNGKey(42)\n",
        "\n",
        "  # Case 1\n",
        "  new_weights = get_new_random_weights(random_key, old_weights, minval=-2.0, maxval=2.0)\n",
        "\n",
        "  if jnp.array_equal(new_weights, jnp.array([ 0.29657745,1.4265499, -1.7621555, -1.7505779 ])):\n",
        "    print(\"Function is correct!\")\n",
        "  else:\n",
        "    print(\"Something is wrong.\")\n",
        "\n",
        "try:\n",
        "  check_get_new_random_weights(get_new_random_weights)\n",
        "except Exception as e:\n",
        "    print(\"An Error Occured: {}\".format(e))"
      ]
    },
    {
      "cell_type": "markdown",
      "metadata": {
        "id": "2Djxc9j-LzkM"
      },
      "source": [
        "Наша функция обучения получает память в форме среднего возврата эпизода из `AverageEpisodeReturnMemory`, которую мы реализовали ранее. Мы можем использовать это для сравнения текущих параметров с лучшими параметрами. Но нам также нужно будет отслеживать лучший средний возврат эпизода для функции обучения. Для этого мы можем использовать аргумент `learn_state`, который передается в `agent_learn_func` в нашем цикле обучения. Как и в случае с `RandomPolicySearchParams`, мы будем использовать NamedTuple для хранения `best_average_episode_return` в `learn_state`."
      ]
    },
    {
      "cell_type": "code",
      "execution_count": null,
      "metadata": {
        "id": "4cSH4uYmRjM2",
        "colab": {
          "base_uri": "https://localhost:8080/"
        },
        "outputId": "2d4ab9f7-58ff-4160-f5e0-0c506dcf4136"
      },
      "outputs": [
        {
          "output_type": "stream",
          "name": "stdout",
          "text": [
            "Initial best average episode return: -inf\n"
          ]
        }
      ],
      "source": [
        "# A NamedTuple to store the best average episode return so far\n",
        "RandomPolicyLearnState = collections.namedtuple(\n",
        "  \"RandomPolicyLearnState\",\n",
        "  [\"best_average_episode_return\"]\n",
        ")\n",
        "\n",
        "# Test\n",
        "initial_learn_state = RandomPolicyLearnState(best_average_episode_return=-float(\"inf\"))\n",
        "print(\"Initial best average episode return:\", initial_learn_state.best_average_episode_return)"
      ]
    },
    {
      "cell_type": "markdown",
      "metadata": {
        "id": "PxZXdP8bOu6b"
      },
      "source": [
        "Теперь у нас есть все необходимое для реализации функции `random_policy_search_learn`.\n",
        "\n",
        "**Упражнение 5:** Реализуйте функцию `random_policy_search_learn`. Функция должна проверять, лучше ли «текущие» параметры, чем «лучшие» параметры, сравнивая `current_average_episode_return` с `best_average_episode_return`. Функция также должна обновлять `learn_state`."
      ]
    },
    {
      "cell_type": "code",
      "execution_count": null,
      "metadata": {
        "id": "Te_Q3qzmZcN_"
      },
      "outputs": [],
      "source": [
        "def random_policy_search_learn(key, params, learn_state, memory):\n",
        "    best_params = params.best\n",
        "    current_params = params.current\n",
        "\n",
        "    current_average_episode_return = memory # the memory contains the average episode return\n",
        "    best_average_episode_return = learn_state.best_average_episode_return\n",
        "\n",
        "\n",
        "    # YOUR CODE\n",
        "\n",
        "    best_params = jax.lax.select(\n",
        "        current_average_episode_return > best_average_episode_return,\n",
        "        current_params,\n",
        "        best_params\n",
        "    )\n",
        "\n",
        "    best_average_episode_return = jax.lax.select(\n",
        "        current_average_episode_return > best_average_episode_return,\n",
        "        current_average_episode_return,  # Update the best return if current is better\n",
        "        best_average_episode_return      # Otherwise keep the previous best return\n",
        "    )\n",
        "\n",
        "    # END YOUR CODE\n",
        "\n",
        "    # Generate new random parameters\n",
        "    new_params = get_new_random_weights(key, current_params)\n",
        "\n",
        "    # Bundle weights in RandomPolicySearchParams NamedTuple\n",
        "    params = RandomPolicySearchParams(current=new_params, best=best_params)\n",
        "\n",
        "    return params, RandomPolicyLearnState(best_average_episode_return)"
      ]
    },
    {
      "cell_type": "code",
      "execution_count": null,
      "metadata": {
        "id": "CXHV4k2iBLBF",
        "colab": {
          "base_uri": "https://localhost:8080/"
        },
        "outputId": "844c68c5-2dff-465b-92de-da8853d1bc0e"
      },
      "outputs": [
        {
          "output_type": "stream",
          "name": "stdout",
          "text": [
            "Your function looks correct.\n"
          ]
        }
      ],
      "source": [
        "#@title Проверка упр 5 {display-mode: \"form\"}\n",
        "\n",
        "params = RandomPolicySearchParams(np.ones(obs_shape, \"float32\"), np.ones(obs_shape, \"float32\") * -1)\n",
        "learn_state = RandomPolicyLearnState(10)\n",
        "memory = 11\n",
        "key = jax.random.PRNGKey(42)\n",
        "\n",
        "try:\n",
        "  new_params, new_learn_state = random_policy_search_learn(key, params, learn_state, memory)\n",
        "\n",
        "  if not jnp.array_equal(new_params.current, jnp.array([ 0.29657745,  1.4265499 , -1.7621555 , -1.7505779 ])):\n",
        "    print(\"Your function is incorrect.\")\n",
        "\n",
        "  elif not jnp.array_equal(new_params.best, jnp.array([1., 1., 1., 1.])):\n",
        "    print(\"Your function is incorrect.\")\n",
        "\n",
        "  elif new_learn_state.best_average_episode_return != 11:\n",
        "    print(\"Your function is incorrect.\")\n",
        "\n",
        "  else:\n",
        "    print(\"Your function looks correct.\")\n",
        "except Exception as e:\n",
        "    print(\"An Error Occured: {}\".format(e))"
      ]
    },
    {
      "cell_type": "markdown",
      "metadata": {
        "id": "5Ol_AxnMBdgP"
      },
      "source": [
        "### Цикл обучения RPS\n",
        "Теперь мы можем собрать все вместе, передав модуль `memory`, функцию `learn` и функцию `choose_action` в цикл обучения. Чтобы ускорить наш алгоритм, мы будем использовать `jax.jit` в функции `learn` и функции `choose_action`."
      ]
    },
    {
      "cell_type": "code",
      "execution_count": null,
      "metadata": {
        "id": "Qx57tf7vRjM3",
        "colab": {
          "base_uri": "https://localhost:8080/",
          "height": 680
        },
        "outputId": "db7c2493-f8a3-4394-aec2-d54bd1cf8d31"
      },
      "outputs": [
        {
          "output_type": "stream",
          "name": "stdout",
          "text": [
            "Starting training. This may take up to 5 minutes to complete.\n",
            "Episode: 0\tEpisode Return: 80.0\tAverage Episode Return: 80.0\tEvaluator Episode Return: 128.875\n",
            "Episode: 100\tEpisode Return: 84.0\tAverage Episode Return: 194.2\tEvaluator Episode Return: 200.0\n",
            "Episode: 200\tEpisode Return: 63.0\tAverage Episode Return: 12.3\tEvaluator Episode Return: 200.0\n",
            "Episode: 300\tEpisode Return: 200.0\tAverage Episode Return: 70.65\tEvaluator Episode Return: 200.0\n",
            "Episode: 400\tEpisode Return: 160.0\tAverage Episode Return: 17.4\tEvaluator Episode Return: 200.0\n",
            "Episode: 500\tEpisode Return: 10.0\tAverage Episode Return: 11.95\tEvaluator Episode Return: 200.0\n",
            "Episode: 600\tEpisode Return: 9.0\tAverage Episode Return: 9.85\tEvaluator Episode Return: 200.0\n",
            "Episode: 700\tEpisode Return: 62.0\tAverage Episode Return: 103.55\tEvaluator Episode Return: 200.0\n",
            "Episode: 800\tEpisode Return: 9.0\tAverage Episode Return: 9.45\tEvaluator Episode Return: 200.0\n",
            "Episode: 900\tEpisode Return: 9.0\tAverage Episode Return: 136.4\tEvaluator Episode Return: 200.0\n",
            "Episode: 1000\tEpisode Return: 9.0\tAverage Episode Return: 83.65\tEvaluator Episode Return: 200.0\n"
          ]
        },
        {
          "output_type": "display_data",
          "data": {
            "text/plain": [
              "<Figure size 640x480 with 1 Axes>"
            ],
            "image/png": "[encoded data removed]"
          },
          "metadata": {}
        }
      ],
      "source": [
        "# JIT the learn and choose action functions\n",
        "random_policy_search_learn_jit = jax.jit(random_policy_search_learn)\n",
        "random_policy_search_choose_action_jit = jax.jit(random_policy_search_choose_action)\n",
        "\n",
        "# Initialise the parameters\n",
        "initial_weights = np.ones(obs_shape, \"float32\")\n",
        "initial_params = RandomPolicySearchParams(initial_weights, initial_weights)\n",
        "\n",
        "# Initialise the learn state\n",
        "initial_learn_state = RandomPolicyLearnState(best_average_episode_return=-float(\"inf\"))\n",
        "\n",
        "# Initialise memory\n",
        "memory = AverageEpisodeReturnBuffer(num_episodes_to_store=50)\n",
        "\n",
        "# Run the training loop\n",
        "print(\"Starting training. This may take up to 5 minutes to complete.\")\n",
        "chex.clear_trace_counter()\n",
        "episode_return, evaluator_episode_returns = run_training_loop(\n",
        "                                        env_name,\n",
        "                                        initial_params,\n",
        "                                        random_policy_search_choose_action_jit,\n",
        "                                        None, # no actor state\n",
        "                                        random_policy_search_learn_jit,\n",
        "                                        initial_learn_state,\n",
        "                                        memory,\n",
        "                                        num_episodes=1001,\n",
        "                                        video_subdir=\"rps\"\n",
        "                                    )\n",
        "\n",
        "# Plot graph of evaluator episode returns\n",
        "plt.plot(np.linspace(0, 1000, len(evaluator_episode_returns)), evaluator_episode_returns)\n",
        "plt.title(\"Random Policy Search\")\n",
        "plt.xlabel(\"Episodes\")\n",
        "plt.ylabel(\"Episode Return\")\n",
        "plt.show()"
      ]
    },
    {
      "cell_type": "markdown",
      "metadata": {
        "id": "TG10FG6uS05A"
      },
      "source": [
        "Надеюсь, вы нашли набор оптимальных параметров на CartPole (возврат эпизода достигает `200`). В ячейке ниже вы можете посмотреть несколько видеороликов агента, выполняющего задание."
      ]
    },
    {
      "cell_type": "code",
      "execution_count": null,
      "metadata": {
        "id": "KgayDJ7KWC4C",
        "colab": {
          "base_uri": "https://localhost:8080/",
          "height": 288
        },
        "outputId": "4550ffc5-f2a0-4cab-807d-d4d70404f526"
      },
      "outputs": [
        {
          "output_type": "execute_result",
          "data": {
            "text/plain": [
              "<IPython.core.display.HTML object>"
            ],
            "text/html": [
              "\n",
              "<video width=400 controls>\n",
              "      <source src=\"data:video/mp4;base64,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\" type=\"video/mp4\">\n",
              "</video>\n"
            ]
          },
          "metadata": {},
          "execution_count": 25
        }
      ],
      "source": [
        "#@title Visualise Policy {display-mode: \"form\"}\n",
        "#@markdown Choose an episode number that is a multiple of 100 and less than or equal to 2000, and **run** this cell.\n",
        "episode_number = 100 #@param {type:\"number\"}\n",
        "\n",
        "assert (episode_number % 100) == 0, \"Episode number must be a multiple of 100 since we only record every 100th episode.\"\n",
        "assert episode_number < 1001, \"Episode number must be less than or equal to 2000\"\n",
        "\n",
        "eval_episode_number = int(episode_number / 100 * 8)\n",
        "video_path = f\"./video/rps/eval/rl-video-episode-{eval_episode_number}.mp4\"\n",
        "\n",
        "mp4 = open(video_path,'rb').read()\n",
        "data_url = \"data:video/mp4;base64,\" + b64encode(mp4).decode()\n",
        "HTML(\"\"\"\n",
        "<video width=400 controls>\n",
        "      <source src=\"%s\" type=\"video/mp4\">\n",
        "</video>\n",
        "\"\"\" % data_url)"
      ]
    },
    {
      "cell_type": "markdown",
      "metadata": {
        "id": "Xwf1IKKbrrVn"
      },
      "source": [
        "Итак, случайный поиск политики справился с этой задачей довольно хорошо. Однако здесь происходит очень мало (если вообще происходит) реального *обучения*. Далее давайте рассмотрим реализацию простого алгоритма RL, который может использовать свой опыт для руководства нашим поиском оптимальной политики, а не просто искать ее случайным образом."
      ]
    },
    {
      "cell_type": "markdown",
      "metadata": {
        "id": "XEnSjZVESrxc"
      },
      "source": [
        "## 3. Градиенты политики  (Policy Gradients, PG)\n",
        "Как обсуждалось, цель RL — найти политику, которая максимизирует ожидаемое совокупное вознаграждение (возврат), которое агент получает от среды. Мы можем записать ожидаемый возврат политики как:\n",
        "\n",
        "$J(\\pi_\\theta)=\\mathrm{E}_{\\tau\\sim\\pi_\\theta}\\ [R(\\tau)]$,\n",
        "\n",
        "где $\\pi_\\theta$ — это политика, параметризованная $\\theta$, $\\mathrm{E}$ означает *ожидание*, $\\tau$ — это сокращение для \"*эпизод*\", $\\tau\\sim\\pi_\\theta$ — это сокращение для \"*эпизоды, выбранные с использованием политики* $\\pi_\\theta$\", а $R(\\tau)$ — это возврат эпизода $\\tau$.\n",
        "\n",
        "Затем, цель в RL — найти параметры $\\theta$, которые максимизируют функцию $J(\\pi_\\theta)$. Один из способов найти эти параметры — выполнить градиентный подъем по $J(\\pi_\\theta)$ относительно параметров $\\theta$:\n",
        "\n",
        "$\\theta_{k+1}=\\theta_k + \\alpha \\nabla J(\\pi_\\theta)|_{\\theta_{k}}$,\n",
        "\n",
        "где $\\nabla J(\\pi_\\theta)|_{\\theta_{k}}$ — градиент ожидаемой доходности относительно параметров политики $\\theta_k$, а $\\alpha$ — размер шага. Эта величина, $\\nabla J(\\pi_\\theta)$, также называется **градиентом политики** и очень важна в RL. Если мы сможем вычислить градиент политики, то у нас будет средство, с помощью которого можно напрямую оптимизировать нашу политику.\n",
        "\n",
        "Как оказалось, у нас есть способ вычислить градиент политики, и математический вывод можно найти [здесь](https://spinningup.openai.com/en/latest/spinningup/rl_intro3.html). Но для этого руководства мы опустим вывод и просто дадим вам результат:\n",
        "\n",
        "$\\nabla_{\\theta} J(\\pi_{\\theta})=\\underset{\\tau \\sim \\pi_{\\theta}}{\\mathrm{E}}[\\sum_{t=0}^{T} \\nabla_{\\theta} \\log \\pi_{\\theta}(a_{t} \\mid s_{t}) R(\\tau)]$\n",
        "\n",
        "Неформально, градиент политики равен градиенту логарифма вероятности выбранного действия, умноженного на возврат эпизода, в котором было предпринято действие.\n"
      ]
    },
    {
      "cell_type": "markdown",
      "metadata": {
        "id": "BTnTzgtSuy-y"
      },
      "source": [
        "### REINFORCE\n",
        "REINFORCE — это простой алгоритм RL, который использует градиент политики для поиска оптимальной политики путем увеличения вероятности выбора действий (усиливающих действий), которые, как правило, приводят к эпизодам с высокой отдачей.\n",
        "\n",
        "**Упражнение 6:** Реализуйте функцию, которая берет вероятность действия и отдачу эпизода, в котором действие было предпринято, и вычисляет логарифм вероятности, умноженный на отдачу. Убедитесь, что вы используете JAX.\n",
        "\n",
        "**Полезные функции:**\n",
        "*   `jax.numpy.log`([docs](https://jax.readthedocs.io/en/latest/_autosummary/jax.numpy.log.html))"
      ]
    },
    {
      "cell_type": "code",
      "execution_count": null,
      "metadata": {
        "id": "bJObUsoUrOyV"
      },
      "outputs": [],
      "source": [
        "def compute_weighted_log_prob(action_prob, episode_return):\n",
        "\n",
        "    # YOUR CODE\n",
        "\n",
        "    log_prob = jnp.log(action_prob)\n",
        "\n",
        "    weighted_log_prob = log_prob * episode_return\n",
        "\n",
        "    # END YOUR CODE\n",
        "\n",
        "    return weighted_log_prob"
      ]
    },
    {
      "cell_type": "code",
      "execution_count": null,
      "metadata": {
        "id": "eZPoTwa1Gbm1",
        "colab": {
          "base_uri": "https://localhost:8080/"
        },
        "outputId": "10ea4265-762a-48d7-a4b4-0b66d6fe1c67"
      },
      "outputs": [
        {
          "output_type": "stream",
          "name": "stdout",
          "text": [
            "Looks correct.\n"
          ]
        }
      ],
      "source": [
        "#@title Проверка упр 6 {display-mode: \"form\"}\n",
        "\n",
        "try:\n",
        "  action_prob = 0.8\n",
        "  episode_return = 100\n",
        "  result = compute_weighted_log_prob(action_prob, episode_return)\n",
        "  if result != -22.314354:\n",
        "    print(\"Your implementation looks incorrect.\")\n",
        "  else:\n",
        "    print(\"Looks correct.\")\n",
        "except Exception as e:\n",
        "    print(\"An Error Occured: {}\".format(e))"
      ]
    },
    {
      "cell_type": "markdown",
      "metadata": {
        "id": "NmgW9UJ3tIpl"
      },
      "source": [
        "### Rewards-to-go\n",
        "Выполнение градиентного подъема по градиенту логарифма вероятности действия, взвешенного по возврату эпизода, будет иметь тенденцию повышать вероятность действий, которые были в эпизодах с высоким возвратом, независимо от того, *где* в эпизоде ​​было выполнено действие. Это на самом деле не имеет большого смысла, потому что действие ближе к концу эпизода может быть подкреплено, потому что много вознаграждения было собрано ранее в эпизоде, *до* того, как было выполнено действие. Агенты RL должны на самом деле подкреплять действия только на основе их *последствий*. Вознаграждения, полученные до выполнения действия, не влияют на то, насколько хорошим было это действие: только вознаграждения, которые приходят после. Накопленные вознаграждения, полученные после выполнения действия, называются **вознаграждениями-к-переходу** и могут быть вычислены как:\n",
        "\n",
        "$\\hat{R}_i=\\sum_{t=i}^Tr_t$\n",
        "\n",
        "Сравните это с доходностью эпизода:\n",
        "\n",
        "$R(\\tau)=\\sum_{t=0}^Tr_t$\n",
        "\n",
        "Мы можем повысить надежность градиента политики, заменив доходность эпизода на вознаграждения-к-переходу. Градиент политики с оставшимися наградами задается следующим образом:\n",
        "\n",
        "$\\nabla_{\\theta} J(\\pi_{\\theta})=\\underset{\\tau \\sim \\pi_{\\theta}}{\\mathrm{E}}[\\sum_{t=0}^{T} \\nabla_{\\theta} \\log \\pi_{\\theta}(a_{t} \\mid s_{t}) \\hat{R}_t]$\n",
        "\n",
        "**Упражнение 7:** Реализуйте функцию, которая берет список всех наград, полученных в эпизоде, и вычисляет оставшиеся награды. Не беспокойтесь об использовании JAX в этой функции. Вы можете использовать обычные операции Python, такие как `for-loops`."
      ]
    },
    {
      "cell_type": "code",
      "execution_count": null,
      "metadata": {
        "id": "nV1Hww8E3dUJ"
      },
      "outputs": [],
      "source": [
        "def compute_rewards_to_go(rewards):\n",
        "    \"\"\"\n",
        "    This function should take a list of rewards as input and\n",
        "    compute the rewards-to-go for each timestep.\n",
        "\n",
        "    EXAMPLE: compute_rewards_to_go([1,2,3,4]) = [10, 9, 7, 4]\n",
        "\n",
        "    Arguments:\n",
        "        rewards[t] is the reward at time step t.\n",
        "\n",
        "    Returns:\n",
        "        rewards_to_go[t] should be the reward-to-go at timestep t.\n",
        "    \"\"\"\n",
        "\n",
        "    rewards_to_go = [0] * len(rewards)\n",
        "\n",
        "    # Compute rewards-to-go using a backward loop\n",
        "    cumulative_reward = 0\n",
        "    for t in reversed(range(len(rewards))):\n",
        "        cumulative_reward += rewards[t]\n",
        "        rewards_to_go[t] = cumulative_reward\n",
        "\n",
        "    return rewards_to_go"
      ]
    },
    {
      "cell_type": "code",
      "execution_count": null,
      "metadata": {
        "id": "hLVaVRp28YGI",
        "colab": {
          "base_uri": "https://localhost:8080/"
        },
        "outputId": "91690d54-59f2-4d1d-b828-a11c218c930b"
      },
      "outputs": [
        {
          "output_type": "stream",
          "name": "stdout",
          "text": [
            "Looks correct.\n"
          ]
        }
      ],
      "source": [
        "#@title Проверка упр 7 {display-mode: \"form\"}\n",
        "\n",
        "try:\n",
        "  result = compute_rewards_to_go([1,2,3,4])\n",
        "\n",
        "  if result != [10, 9, 7, 4]:\n",
        "    print(\"There is a problem with your implementation.\")\n",
        "  else:\n",
        "    print(\"Looks correct.\")\n",
        "except Exception as e:\n",
        "    print(\"An Error Occured: {}\".format(e))"
      ]
    },
    {
      "cell_type": "markdown",
      "metadata": {
        "id": "IboxN9MS65i5"
      },
      "source": [
        "### REINFORCE memory\n",
        "Далее нам нужно будет создать новую память агента для хранения вознаграждений $\\hat{R}_t$ вместе с наблюдением $o_t$ и действием $a_t$ на каждом временном шаге. Ниже мы реализовали такой модуль памяти для вас. Функция `memory.sample()` вернет пакет из последних 500 воспоминаний. Вы можете прочитать код, чтобы попытаться понять его, но это не обязательно. Поэтому мы скрываем код по умолчанию."
      ]
    },
    {
      "cell_type": "code",
      "execution_count": null,
      "metadata": {
        "id": "xhS4V6auRjM3"
      },
      "outputs": [],
      "source": [
        "# @title Реализация памяти (run me) {display-mode: \"form\"}\n",
        "\n",
        "# NamedTuple to store memory\n",
        "EpisodeRewardsToGoMemory = collections.namedtuple(\"EpisodeRewardsToGoMemory\", [\"obs\", \"action\", \"reward_to_go\"])\n",
        "\n",
        "class EpisodeRewardsToGoBuffer:\n",
        "\n",
        "    def __init__(self, num_transitions_to_store=512, batch_size=256):\n",
        "        self.batch_size = batch_size\n",
        "        self.memory_buffer = collections.deque(maxlen=num_transitions_to_store)\n",
        "        self.current_episode_transition_buffer = []\n",
        "\n",
        "    def push(self, transition):\n",
        "        self.current_episode_transition_buffer.append(transition)\n",
        "\n",
        "        if transition.done:\n",
        "\n",
        "            episode_rewards = []\n",
        "            for t in self.current_episode_transition_buffer:\n",
        "                episode_rewards.append(t.reward)\n",
        "\n",
        "            r2g = compute_rewards_to_go(episode_rewards)\n",
        "\n",
        "            for i, t in enumerate(self.current_episode_transition_buffer):\n",
        "                memory = EpisodeRewardsToGoMemory(t.obs, t.action, r2g[i])\n",
        "                self.memory_buffer.append(memory)\n",
        "\n",
        "            # Reset episode buffer\n",
        "            self.current_episode_transition_buffer = []\n",
        "\n",
        "\n",
        "    def is_ready(self):\n",
        "        return len(self.memory_buffer) >= self.batch_size\n",
        "\n",
        "    def sample(self):\n",
        "        random_memory_sample = random.sample(self.memory_buffer, self.batch_size)\n",
        "\n",
        "        obs_batch, action_batch, reward_to_go_batch = zip(*random_memory_sample)\n",
        "\n",
        "        return EpisodeRewardsToGoMemory(\n",
        "            np.stack(obs_batch).astype(\"float32\"),\n",
        "            np.asarray(action_batch).astype(\"int32\"),\n",
        "            np.asarray(reward_to_go_batch).astype(\"int32\")\n",
        "        )\n",
        "\n",
        "\n",
        "# Instantiate Memory\n",
        "REINFORCE_memory = EpisodeRewardsToGoBuffer(num_transitions_to_store=512, batch_size=256)"
      ]
    },
    {
      "cell_type": "markdown",
      "metadata": {
        "id": "Idkav_aSYXvz"
      },
      "source": [
        "### Policy neural network\n",
        "Далее мы будем использовать простую нейронную сеть для аппроксимации политики. Наша нейронная сеть политики будет иметь входной слой, который принимает наблюдение в качестве входных данных и пропускает его через два скрытых слоя, а затем выводит одно скалярное значение для каждого из возможных действий. Таким образом, в CartPole выходной слой будет иметь размер `2`.\n",
        "\n",
        "[Haiku](https://github.com/deepmind/dm-haiku) — это библиотека для реализации нейронных сетей в JAX. Ниже мы реализовали простую функцию для создания сети политики для вас.\n"
      ]
    },
    {
      "cell_type": "code",
      "execution_count": null,
      "metadata": {
        "id": "j2XO7VkORjM4"
      },
      "outputs": [],
      "source": [
        "def make_policy_network(num_actions: int, layers=[20, 20]) -> hk.Transformed:\n",
        "  \"\"\"Factory for a simple MLP network for the policy.\"\"\"\n",
        "\n",
        "  def policy_network(obs):\n",
        "    network = hk.Sequential(\n",
        "        [\n",
        "            hk.Flatten(),\n",
        "            hk.nets.MLP(layers + [num_actions])\n",
        "        ]\n",
        "    )\n",
        "    return network(obs)\n",
        "\n",
        "  return hk.without_apply_rng(hk.transform(policy_network))"
      ]
    },
    {
      "cell_type": "markdown",
      "metadata": {
        "id": "1GR2y8FjaG-G"
      },
      "source": [
        "У сетей Haiku есть две важные функции, о которых вам нужно знать. Первая — `network.init(<random_key>, <input>)`, которая возвращает набор случайных начальных параметров. Второй метод — `network.apply(<params>, <input>)`, который передает входные данные через сеть, используя предоставленный набор параметров."
      ]
    },
    {
      "cell_type": "code",
      "execution_count": null,
      "metadata": {
        "id": "fJrn9o-Vatkw",
        "colab": {
          "base_uri": "https://localhost:8080/"
        },
        "outputId": "77f9e5e6-66bc-4c2d-ac95-8f2a5a205a6e"
      },
      "outputs": [
        {
          "output_type": "stream",
          "name": "stdout",
          "text": [
            "Initial params: dict_keys(['mlp/~/linear_0', 'mlp/~/linear_1', 'mlp/~/linear_2'])\n",
            "Policy network output: [ 0.91155875 -0.3961737 ]\n"
          ]
        }
      ],
      "source": [
        "# Example\n",
        "POLICY_NETWORK = make_policy_network(num_actions=num_actions, layers=[20,20])\n",
        "random_key = jax.random.PRNGKey(42) # random key\n",
        "dummy_obs = np.ones(obs_shape, \"float32\")\n",
        "\n",
        "# Initialise parameters\n",
        "REINFORCE_params = POLICY_NETWORK.init(random_key, dummy_obs)\n",
        "print(\"Initial params:\", REINFORCE_params.keys())\n",
        "\n",
        "# Pass input through the network\n",
        "output = POLICY_NETWORK.apply(REINFORCE_params, dummy_obs)\n",
        "print(\"Policy network output:\", output)\n"
      ]
    },
    {
      "cell_type": "markdown",
      "metadata": {
        "id": "MlouUBvoeunz"
      },
      "source": [
        "Выходы нашей сети политик — [логиты](https://qr.ae/pv4YTe). Чтобы преобразовать это в распределение вероятностей по действиям, мы передаем логиты в функцию [softmax](https://en.wikipedia.org/wiki/Softmax_function).\n",
        "\n",
        "### УСИЛЕНИЕ выбор функции действия\n",
        "\n",
        "**Упражнение 8:** Завершите функцию ниже, которая берет вектор логитов и случайным образом выбирает действие из категориального распределения, заданного логитами.\n",
        "\n",
        "**Полезные функции:**"
      ]
    },
    {
      "cell_type": "code",
      "execution_count": null,
      "metadata": {
        "id": "m3Z8DxUmeOGJ"
      },
      "outputs": [],
      "source": [
        "def sample_action(random_key, logits):\n",
        "\n",
        "  # YOUR CODE HERE\n",
        "\n",
        "  action = jax.random.categorical(random_key, logits)\n",
        "\n",
        "\n",
        "  # END YOUR code\n",
        "\n",
        "  return action"
      ]
    },
    {
      "cell_type": "code",
      "execution_count": null,
      "metadata": {
        "id": "5opHJMO0D_Ub",
        "colab": {
          "base_uri": "https://localhost:8080/"
        },
        "outputId": "ff738972-f2f7-4a1b-b9b7-55ebdf754187"
      },
      "outputs": [
        {
          "output_type": "stream",
          "name": "stdout",
          "text": [
            "Seems correct.\n"
          ]
        }
      ],
      "source": [
        "#@title Проверка упр 8 {display-mode: \"form\"}\n",
        "\n",
        "try:\n",
        "  random_key = jax.random.PRNGKey(42) # random key\n",
        "  action = sample_action(random_key, np.array([1,2], \"float32\"))\n",
        "  if action != 1:\n",
        "    print(\"Your function is incorrect.\")\n",
        "  else:\n",
        "    print(\"Seems correct.\")\n",
        "except Exception as e:\n",
        "    print(\"An Error Occured: {}\".format(e))"
      ]
    },
    {
      "cell_type": "markdown",
      "metadata": {
        "id": "jP5UH87VRjM4"
      },
      "source": [
        "Теперь мы можем реализовать функцию `REINFORCE_choose_action`. Мы передадим наблюдение через сеть политики для вычисления логитов, а затем передадим логиты в функцию `sample_action` для выбора и действия."
      ]
    },
    {
      "cell_type": "code",
      "execution_count": null,
      "metadata": {
        "id": "UJTzrDAZ0Ul5"
      },
      "outputs": [],
      "source": [
        "def REINFORCE_choose_action(key, params, actor_state, obs, evaluation=False):\n",
        "  obs = jnp.expand_dims(obs, axis=0) # add dummy batch dim before passing through network\n",
        "\n",
        "  # Pass obs through policy network to compute logits\n",
        "  logits = POLICY_NETWORK.apply(params, obs)\n",
        "  logits = logits[0] # remove batch dim\n",
        "\n",
        "  # Randomly sample action\n",
        "  sampled_action = sample_action(key, logits)\n",
        "\n",
        "  return sampled_action, actor_state"
      ]
    },
    {
      "cell_type": "markdown",
      "metadata": {
        "id": "NI26SLAb7iRo"
      },
      "source": [
        "Теперь, когда мы реализовали функцию `REINFORCE_choose_action`, нам осталось только создать функцию `REINFORCE_learn`. Функция обучения должна использовать функцию `weighted_log_prob`, которую мы создали ранее, чтобы вычислить потери градиента политики и применить обновления градиента к нашей нейронной сети."
      ]
    },
    {
      "cell_type": "markdown",
      "metadata": {
        "id": "36ALCJESQJ8e"
      },
      "source": [
        "### Policy gradient loss\n",
        "\n",
        "\n",
        "**Упражнение 9:** Завершите функцию `policy_gradient_loss` ниже. Функция должна вычислять вероятности действий, пропуская `logits` через функцию softmax. Затем следует извлечь вероятность заданного `action` (используя индексацию массива) и вычислить `weighted_log_prob`, используя функцию, которую мы создали ранее.\n",
        "\n",
        "**Полезные методы:**\n",
        "*   `jax.nn.softmax` ([docs](https://jax.readthedocs.io/en/latest/_autosummary/jax.nn.softmax.html))"
      ]
    },
    {
      "cell_type": "code",
      "execution_count": null,
      "metadata": {
        "id": "9sUKkqx0RjM4"
      },
      "outputs": [],
      "source": [
        "def policy_gradient_loss(action, logits, reward_to_go):\n",
        "\n",
        "  # YOUR CODE\n",
        "\n",
        "  all_action_probs = jax.nn.softmax(logits)\n",
        "\n",
        "  # Get the probability of the taken action using array indexing\n",
        "  action_prob = all_action_probs[action]\n",
        "\n",
        "  # Compute weighted log probability\n",
        "  weighted_log_prob = compute_weighted_log_prob(action_prob, reward_to_go)\n",
        "\n",
        "  # Compute the loss (negative for gradient ascent)\n",
        "  loss = -weighted_log_prob\n",
        "\n",
        "  return loss"
      ]
    },
    {
      "cell_type": "code",
      "execution_count": null,
      "metadata": {
        "id": "7AMJvau1FsM5",
        "colab": {
          "base_uri": "https://localhost:8080/"
        },
        "outputId": "0e8d36e8-68d1-47b8-f202-41534d97edbc"
      },
      "outputs": [
        {
          "output_type": "stream",
          "name": "stdout",
          "text": [
            "3.1326165\n",
            "Your implementation looks wrong.\n"
          ]
        }
      ],
      "source": [
        "#@title Проверка упр 9 {display-mode: \"form\"}\n",
        "\n",
        "try:\n",
        "  result = policy_gradient_loss(1, np.array([1,2], \"float32\"), 10)\n",
        "  print(result)\n",
        "  if result != 3.1326175:\n",
        "    print(\"Your implementation looks wrong.\")\n",
        "  else:\n",
        "    print(\"Looks correct.\")\n",
        "except Exception as e:\n",
        "  print(\"An Error Occured: {}\".format(e))"
      ]
    },
    {
      "cell_type": "markdown",
      "metadata": {
        "id": "Gzuqx1jJrwVx"
      },
      "source": [
        "Когда мы делаем шаг обновления градиента политики, мы захотим сделать это, используя пакет опыта, а не просто один опыт, как выше. Мы можем использовать функцию JAX [vmap](https://jax.readthedocs.io/en/latest/_autosummary/jax.vmap.html#jax.vmap), чтобы легко заставить нашу функцию `policy_gradient_loss` работать с пакетом опыта."
      ]
    },
    {
      "cell_type": "code",
      "execution_count": null,
      "metadata": {
        "id": "3yq4naLURjM4",
        "colab": {
          "base_uri": "https://localhost:8080/"
        },
        "outputId": "1375254d-786a-4678-d499-7b23af022255"
      },
      "outputs": [
        {
          "output_type": "stream",
          "name": "stdout",
          "text": [
            "Policy gradient loss on batch: 1.6967314\n"
          ]
        }
      ],
      "source": [
        "def batched_policy_gradient_loss(params, obs_batch, action_batch, reward_to_go_batch):\n",
        "    # Get logits by passing observation through network\n",
        "    logits_batch = POLICY_NETWORK.apply(params, obs_batch)\n",
        "\n",
        "    policy_gradient_loss_batch = jax.vmap(policy_gradient_loss)(\n",
        "        action_batch,\n",
        "        logits_batch,\n",
        "        reward_to_go_batch) # add batch\n",
        "\n",
        "    # Compute mean loss over batch\n",
        "    mean_policy_gradient_loss = jnp.mean(policy_gradient_loss_batch)\n",
        "\n",
        "    return mean_policy_gradient_loss\n",
        "\n",
        "# TEST\n",
        "obs_batch = np.ones((3, *obs_shape), \"float32\")\n",
        "actions_batch = np.array([1,0,0])\n",
        "rew2go_batch = np.array([2.3, 4.3, 2.1])\n",
        "\n",
        "loss = batched_policy_gradient_loss(REINFORCE_params, obs_batch, actions_batch, rew2go_batch)\n",
        "\n",
        "print(\"Policy gradient loss on batch:\", loss)"
      ]
    },
    {
      "cell_type": "markdown",
      "metadata": {
        "id": "VDhTH3culwqo"
      },
      "source": [
        "### Оптимизатор сети\n",
        "\n",
        "Чтобы применить обновления градиента политики к нашей нейронной сети, мы будем использовать библиотеку JAX под названием [Optax](https://github.com/deepmind/optax). Optax имеет реализацию [оптимизатора Adam](https://www.geeksforgeeks.org/intuition-of-adam-optimizer/), которую мы можем использовать."
      ]
    },
    {
      "cell_type": "code",
      "execution_count": null,
      "metadata": {
        "id": "pxXINlMHP5Ic"
      },
      "outputs": [],
      "source": [
        "REINFORCE_OPTIMIZER = optax.adam(1e-3)\n",
        "\n",
        "# Initialise the optimiser\n",
        "REINFORCE_optim_state = REINFORCE_OPTIMIZER.init(REINFORCE_params)"
      ]
    },
    {
      "cell_type": "markdown",
      "metadata": {
        "id": "ViENrHOALbCw"
      },
      "source": [
        "Теперь у нас есть все необходимое для создания функции `REINFORCE_learn`. Мы сохраним состояние оптимизатора в `learn_state`. Мы вычислим градиент потерь градиента политики с помощью  `jax.grad` ([docs](https://jax.readthedocs.io/en/latest/_autosummary/jax.grad.html))."
      ]
    },
    {
      "cell_type": "code",
      "execution_count": null,
      "metadata": {
        "id": "CQr2Uz5ORjM5"
      },
      "outputs": [],
      "source": [
        "# A NamedTuple to store the state of the optimiser\n",
        "REINFORCELearnState = collections.namedtuple(\"LearnerState\", [\"optim_state\"])\n",
        "\n",
        "\n",
        "def REINFORCE_learn(key, params, learner_state, memory):\n",
        "\n",
        "  # Get the policy gradient by using `jax.grad()` on `batched_policy_gradient_loss`\n",
        "  grad_loss = jax.grad(batched_policy_gradient_loss)(params, memory.obs, memory.action, memory.reward_to_go)\n",
        "\n",
        "  # Get param updates using gradient and optimizer\n",
        "  updates, new_optim_state = REINFORCE_OPTIMIZER.update(grad_loss, learner_state.optim_state)\n",
        "\n",
        "  # Apply updates to params\n",
        "  params = optax.apply_updates(params, updates)\n",
        "\n",
        "  return params, REINFORCELearnState(new_optim_state) # update learner state"
      ]
    },
    {
      "cell_type": "markdown",
      "metadata": {
        "id": "5an3U2NhRKgG"
      },
      "source": [
        "### Цикл обучения REINFORCE\n",
        "Теперь мы можем обучить нашего агента REINFORCE, собрав все воедино с помощью цикла обучения."
      ]
    },
    {
      "cell_type": "code",
      "execution_count": null,
      "metadata": {
        "id": "vioIcVGsRjM5",
        "colab": {
          "base_uri": "https://localhost:8080/",
          "height": 680
        },
        "outputId": "d9c9f34d-f85e-4789-b980-29342fcb95a6"
      },
      "outputs": [
        {
          "output_type": "stream",
          "name": "stdout",
          "text": [
            "Starting training. This may take up to 10 minutes to complete.\n",
            "Episode: 0\tEpisode Return: 12.0\tAverage Episode Return: 12.0\tEvaluator Episode Return: 18.375\n",
            "Episode: 100\tEpisode Return: 54.0\tAverage Episode Return: 72.15\tEvaluator Episode Return: 107.125\n",
            "Episode: 200\tEpisode Return: 198.0\tAverage Episode Return: 134.25\tEvaluator Episode Return: 130.875\n",
            "Episode: 300\tEpisode Return: 127.0\tAverage Episode Return: 178.2\tEvaluator Episode Return: 183.5\n",
            "Episode: 400\tEpisode Return: 200.0\tAverage Episode Return: 180.45\tEvaluator Episode Return: 199.0\n",
            "Episode: 500\tEpisode Return: 140.0\tAverage Episode Return: 149.8\tEvaluator Episode Return: 115.125\n",
            "Episode: 600\tEpisode Return: 200.0\tAverage Episode Return: 200.0\tEvaluator Episode Return: 200.0\n",
            "Episode: 700\tEpisode Return: 200.0\tAverage Episode Return: 193.1\tEvaluator Episode Return: 200.0\n",
            "Episode: 800\tEpisode Return: 200.0\tAverage Episode Return: 200.0\tEvaluator Episode Return: 200.0\n",
            "Episode: 900\tEpisode Return: 200.0\tAverage Episode Return: 200.0\tEvaluator Episode Return: 199.625\n",
            "Episode: 1000\tEpisode Return: 200.0\tAverage Episode Return: 200.0\tEvaluator Episode Return: 200.0\n"
          ]
        },
        {
          "output_type": "display_data",
          "data": {
            "text/plain": [
              "<Figure size 640x480 with 1 Axes>"
            ],
            "image/png": "[encoded data removed]"
          },
          "metadata": {}
        }
      ],
      "source": [
        "# JIT the choose_action and learn functions for more speed\n",
        "REINFORCE_learn_jit = jax.jit(REINFORCE_learn)\n",
        "REINFORCE_choose_action_jit = jax.jit(REINFORCE_choose_action)\n",
        "\n",
        "# Initial learn state\n",
        "REINFORCE_learn_state = REINFORCELearnState(REINFORCE_optim_state)\n",
        "\n",
        "# Run training loop\n",
        "print(\"Starting training. This may take up to 10 minutes to complete.\")\n",
        "episode_returns, evaluator_returns = run_training_loop(\n",
        "                                        env_name,\n",
        "                                        REINFORCE_params,\n",
        "                                        REINFORCE_choose_action_jit,\n",
        "                                        None, # action state not used\n",
        "                                        REINFORCE_learn_jit,\n",
        "                                        REINFORCE_learn_state,\n",
        "                                        REINFORCE_memory,\n",
        "                                        num_episodes=1001,\n",
        "                                        learn_steps_per_episode=2,\n",
        "                                        video_subdir=\"reinforce\"\n",
        "                                      )\n",
        "\n",
        "# Plot the episode returns\n",
        "plt.plot(episode_returns)\n",
        "plt.xlabel(\"Episode\")\n",
        "plt.ylabel(\"Episode Return\")\n",
        "plt.title(\"REINFORCE\")\n",
        "plt.show()\n"
      ]
    },
    {
      "cell_type": "code",
      "execution_count": null,
      "metadata": {
        "id": "caKL3ngNr_Yh",
        "colab": {
          "base_uri": "https://localhost:8080/",
          "height": 288
        },
        "outputId": "47fd571c-bf64-4d55-c00d-a69a4323a823"
      },
      "outputs": [
        {
          "output_type": "execute_result",
          "data": {
            "text/plain": [
              "<IPython.core.display.HTML object>"
            ],
            "text/html": [
              "\n",
              "<video width=400 controls>\n",
              "      <source src=\"data:video/mp4;base64,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\" type=\"video/mp4\">\n",
              "</video>\n"
            ]
          },
          "metadata": {},
          "execution_count": 49
        }
      ],
      "source": [
        "#@title Визуализация {display-mode: \"form\"}\n",
        "#@markdown Выберите номер эпизода, менее или равного 1000, и **run this cell**.\n",
        "\n",
        "episode_number = 100 #@param {type:\"number\"}\n",
        "\n",
        "assert (episode_number % 100) == 0, \"Episode number must be a multiple of 100 since we only record every 100th episode.\"\n",
        "assert episode_number < 1001, \"Episode number must be less than or equal to 1000\"\n",
        "\n",
        "eval_episode_number = int(episode_number / 100 * 8)\n",
        "video_path = f\"./video/reinforce/eval/rl-video-episode-{eval_episode_number}.mp4\"\n",
        "\n",
        "mp4 = open(video_path,'rb').read()\n",
        "data_url = \"data:video/mp4;base64,\" + b64encode(mp4).decode()\n",
        "HTML(\"\"\"\n",
        "<video width=400 controls>\n",
        "      <source src=\"%s\" type=\"video/mp4\">\n",
        "</video>\n",
        "\"\"\" % data_url)"
      ]
    },
    {
      "cell_type": "markdown",
      "metadata": {
        "id": "D_HHzFTOc-Qr"
      },
      "source": [
        "## 4. Q-Learning\n",
        "Другим распространенным подходом к поиску оптимальной политики в среде с использованием RL является Q-обучение."
      ]
    },
    {
      "cell_type": "markdown",
      "metadata": {
        "id": "lF1nOZrUSzhE"
      },
      "source": [
        "### Функция значения состояния-действия\n",
        "В Q-обучении агент изучает функцию, которая аппроксимирует **значение** пар состояние-действие. Под *значением* мы подразумеваем отдачу, которую вы ожидаете получить, если начнете в определенном состоянии $s_t$, выполните определенное действие $a_t$, а затем будете действовать в соответствии с определенной политикой $\\pi$ навсегда. Функция значения состояния-действия политики $\\pi$ задается как\n",
        "\n",
        "$Q_\\pi(s,a)=\\mathrm{E}_{\\tau\\sim\\pi}\\left[R(\\tau) \\mid s_0=s,\\ a_t=a\\right]$.\n",
        "\n",
        "Мы говорим, что функция значения $Q_\\pi(s,a)$ является **оптимальной** функцией значения, если политика $\\pi$ является оптимальной политикой. Обозначим функцию оптимального значения следующим образом:\n",
        "\n",
        "$Q_\\ast(s,a)=\\max \\limits_\\pi \\ \\mathrm{E}_{\\tau\\sim\\pi}\\left[R(\\tau) \\mid s_0=s,\\ a_0=a\\right]$\n",
        "\n",
        "Существует важная связь между оптимальным действием $a_\\ast$ в состоянии $s$ и оптимальной функцией значения состояния-действия $Q_\\ast$. А именно, оптимальное действие $a_\\ast$ в состоянии $s$ равно действию, которое максимизирует оптимальную функцию значения состояния-действия. Эта связь естественным образом индуцирует оптимальную политику:\n",
        "\n",
        "$\\pi_\\ast(s)=\\arg \\max \\limits_a\\ Q_\\ast(s, a)$"
      ]
    },
    {
      "cell_type": "markdown",
      "metadata": {
        "id": "H2x2tqvZSihz"
      },
      "source": [
        "### Greedy action selection (Жадный выбор действия)\n",
        "\n",
        "**Упражнение 10:** Давайте реализуем функцию, которая, учитывая вектор Q-значений, возвращает действие с наибольшим Q-значением (т. е. жадное действие).\n",
        "\n",
        "**Useful methods:**\n",
        "*   `jax.numpy.argmax` ([docs](https://jax.readthedocs.io/en/latest/_autosummary/jax.numpy.argmax.html))"
      ]
    },
    {
      "cell_type": "code",
      "execution_count": null,
      "metadata": {
        "id": "Nn9P1YdzTIDU"
      },
      "outputs": [],
      "source": [
        "# Implement a function takes q-values as input and returns the greedy_action\n",
        "def select_greedy_action(q_values):\n",
        "\n",
        "  # YOUR CODE\n",
        "  action = jnp.argmax(q_values)\n",
        "  # END YOUR CODE\n",
        "\n",
        "  return action"
      ]
    },
    {
      "cell_type": "code",
      "execution_count": null,
      "metadata": {
        "id": "ZBzLr_G7QKXR",
        "colab": {
          "base_uri": "https://localhost:8080/"
        },
        "outputId": "03e763c3-7dc8-47d7-8122-4f928cce1ee7"
      },
      "outputs": [
        {
          "output_type": "stream",
          "name": "stdout",
          "text": [
            "Looks good.\n"
          ]
        }
      ],
      "source": [
        "# @title Проверка упр 10 (run me) {display-mode: \"form\"}\n",
        "\n",
        "try:\n",
        "  q_values = jnp.array([1,1,3,4])\n",
        "  action = select_greedy_action(q_values)\n",
        "\n",
        "  if action != 3:\n",
        "    print(\"Incorrect answer, your greedy action selector looks wrong\")\n",
        "  else:\n",
        "    print(\"Looks good.\")\n",
        "except Exception as e:\n",
        "  print(\"An Error Occured: {}\".format(e))"
      ]
    },
    {
      "cell_type": "markdown",
      "metadata": {
        "id": "PFQUlqZ4ZyLp"
      },
      "source": [
        "### Q-Network\n",
        "В отличие от подхода с градиентом политики из предыдущего раздела, в Q-обучении и других методах RL на основе значений нам не нужна параметризация для политики, вместо этого мы параметризуем Q-функцию с помощью нейронной сети $Q_\\theta$. Мы получаем политику из Q-сети, всегда выбирая действие с *наибольшим* значением:\n",
        "\n",
        "$\\hat{\\pi}_\\theta(s)=\\arg \\max \\limits_a\\ Q_{\\theta}(s, a)$\n",
        "\n",
        "Как и ранее, мы будем использовать хайку для создания нейронной сети для аппроксимации этой Q-функции. Сеть будет принимать наблюдение в качестве входных данных, а затем выводить Q-значение для каждого из доступных действий. Таким образом, в случае CartPole выход сети будет иметь размер $2$."
      ]
    },
    {
      "cell_type": "code",
      "execution_count": null,
      "metadata": {
        "id": "9wU1soJYZyLp"
      },
      "outputs": [],
      "source": [
        "def build_network(num_actions: int, layers=[20, 20]) -> hk.Transformed:\n",
        "  \"\"\"Factory for a simple MLP network for approximating Q-values.\"\"\"\n",
        "\n",
        "  def q_network(obs):\n",
        "    network = hk.Sequential(\n",
        "        [hk.Flatten(),\n",
        "         hk.nets.MLP(layers + [num_actions])])\n",
        "    return network(obs)\n",
        "\n",
        "  return hk.without_apply_rng(hk.transform(q_network))"
      ]
    },
    {
      "cell_type": "markdown",
      "metadata": {
        "id": "sUwG-4qTS1zx"
      },
      "source": [
        "Давайте инициализируем нашу Q-сеть и получим начальные параметры."
      ]
    },
    {
      "cell_type": "code",
      "execution_count": null,
      "metadata": {
        "id": "1uvq5n2cS9lu",
        "colab": {
          "base_uri": "https://localhost:8080/"
        },
        "outputId": "e02fb46a-a622-47f9-fec3-9b646942c82f"
      },
      "outputs": [
        {
          "output_type": "stream",
          "name": "stdout",
          "text": [
            "Q-Learning params: dict_keys(['mlp/~/linear_0', 'mlp/~/linear_1', 'mlp/~/linear_2'])\n"
          ]
        }
      ],
      "source": [
        "# Initialise Q-network\n",
        "Q_NETWORK = build_network(num_actions=num_actions, layers=[20, 20]) # two actions\n",
        "\n",
        "dummy_obs = jnp.zeros((1,*obs_shape), jnp.float32) # a dummy observation like the one in CartPole\n",
        "\n",
        "random_key = jax.random.PRNGKey(42) # random key\n",
        "Q_NETWORK_PARAMS = Q_NETWORK.init(random_key, dummy_obs) # Get initial params\n",
        "\n",
        "print(\"Q-Learning params:\", Q_NETWORK_PARAMS.keys())"
      ]
    },
    {
      "cell_type": "markdown",
      "metadata": {
        "id": "iqCUeZfhEfyP"
      },
      "source": [
        "Прежде чем мы реализуем функцию потерь, необходимую для обучения нашей Q-сети, давайте сначала обсудим интуицию, стоящую за ней."
      ]
    },
    {
      "cell_type": "markdown",
      "metadata": {
        "id": "vbLig3uSZyLp"
      },
      "source": [
        "### The Bellman Equations (Уравнения Беллмана)\n",
        "Функция значения может быть записана рекурсивно как:\n",
        "\n",
        "$Q_{\\pi}(s, a) =\\underset{s^{\\prime} \\sim P}{\\mathrm{E}}\\left[r(s, a)+ \\underset{a^{\\prime} \\sim \\pi}{\\mathrm{E}}\\left[Q_{\\pi}\\left(s^{\\prime}, a^{\\prime}\\right)\\right]\\right]$,\n",
        "\n",
        "где $s' \\sim P$ — это сокращение для обозначения того, что следующее состояние $s'$ выбирается из функции перехода среды $P(s'\\mid s,a)$. Интуитивно это уравнение говорит, что ценность действия $a$, которое вы предприняли в состоянии $s$, равна вознаграждению $r$, которое вы ожидаете получить, плюс ценность, которую вы ожидаете получить в следующем состоянии $s`$, в котором вы окажетесь, при условии, что вы выберете свое следующее действие $a`$ с политикой $\\pi$. Уравнение Беллмана для оптимальной функции ценности выглядит так:\n",
        "\n",
        "$Q_{*}(s, a) =\\underset{s^{\\prime} \\sim P}{\\mathrm{E}}\\left[r(s, a)+\\ \\underset{a^{\\prime}}{\\max}\\ Q_{*}(s^{\\prime}, a^{\\prime})\\right]$\n",
        "\n",
        "Обратите внимание, что вместо выбора вашего следующего действия $a`$ с политикой $\\pi$ мы выбираем действие с наибольшим значением Q.\n",
        "\n",
        "Более подробное обсуждение уравнений Беллмана можно найти на сайте [OpenAI Spinning Up](https://spinningup.openai.com/en/latest/spinningup/rl_intro.html)."
      ]
    },
    {
      "cell_type": "markdown",
      "metadata": {
        "id": "DsOJi5G8ZyLp"
      },
      "source": [
        "### The Bellman Backup (Резервное копирование Беллмана)\n",
        "\n",
        "Чтобы научиться аппроксимировать оптимальную функцию Q-значения, мы можем использовать правую часть уравнения Беллмана в качестве правила обновления. Другими словами, предположим, что у нас есть Q-сеть $Q_\\theta$, аппроксимированная с использованием параметров $\\theta$, тогда мы можем итеративно обновлять параметры таким образом, что\n",
        "\n",
        "$Q_\\theta(s,a)\\leftarrow r(s, a) + \\underset{a'}{\\max}\\ Q_\\theta(s', a')$.\n",
        "\n",
        "Интуитивно это означает, что аппроксимация Q-значения действия $a$ в состоянии $s$ должна быть обновлена ​​таким образом, чтобы она была ближе к равной вознаграждению, полученному от среды $r(s, a)$, плюс значение наилучшего возможного действия в следующем состоянии $s'$. Мы можем выполнить эту оптимизацию, минимизируя разницу между левой и правой частью относительно параметров $\\theta$, используя градиентный спуск. Мы можем измерить разницу между двумя значениями, используя [квадратичную ошибку](https://en.wikipedia.org/wiki/Mean_squared_error#Loss_function).\n",
        "\n",
        "**Упражнение 11:** Реализуйте функцию квадратичной ошибки.\n",
        "\n",
        "**Полезные функции**\n",
        "* `jax.numpy.square` ([docs](https://jax.readthedocs.io/en/latest/_autosummary/jax.numpy.square.html))"
      ]
    },
    {
      "cell_type": "code",
      "execution_count": null,
      "metadata": {
        "id": "PTto__ohZyLp"
      },
      "outputs": [],
      "source": [
        "def compute_squared_error(pred, target):\n",
        "  # YOUR CODE\n",
        "  squared_error = jnp.square(pred - target)\n",
        "  # END YOUR CODE\n",
        "\n",
        "  return squared_error"
      ]
    },
    {
      "cell_type": "code",
      "execution_count": null,
      "metadata": {
        "id": "wGhX8XTFVPVU",
        "colab": {
          "base_uri": "https://localhost:8080/"
        },
        "outputId": "bffab67a-8e5a-4620-985e-b59c7043aa71"
      },
      "outputs": [
        {
          "output_type": "stream",
          "name": "stdout",
          "text": [
            "Looks good.\n"
          ]
        }
      ],
      "source": [
        "#@title Проверка упр 11 {display-mode: \"form\"}\n",
        "\n",
        "try:\n",
        "  result = compute_squared_error(1, 4)\n",
        "\n",
        "  if result != 9:\n",
        "    print(\"Your implementation looks wrong.\")\n",
        "  else:\n",
        "    print(\"Looks good.\")\n",
        "except Exception as e:\n",
        "  print(\"An Error Occured: {}\".format(e))"
      ]
    },
    {
      "cell_type": "markdown",
      "metadata": {
        "id": "ycpZVkgdZyLp"
      },
      "source": [
        "**Упражнение 12:** Реализуйте функцию, которая вычисляет **цель Беллмана** (правая часть уравнения Беллмана). Если эпизод находится на последнем временном шаге (т. е. done==1.0), то цель Беллмана должна быть равна награде, без дополнительного значения в конце.\n",
        "\n",
        "**Полезные функции**\n",
        "* `jax.numpy.max` ([docs](https://jax.readthedocs.io/en/latest/_autosummary/jax.numpy.max.html))"
      ]
    },
    {
      "cell_type": "code",
      "execution_count": null,
      "metadata": {
        "id": "961_OllWZyLp"
      },
      "outputs": [],
      "source": [
        "# Bellman target\n",
        "def compute_bellman_target(reward, done, next_q_values, gamma=1.0):\n",
        "  \"\"\"A function to compute the bellman target.\n",
        "\n",
        "  Args:\n",
        "      reward: a scalar reward.\n",
        "      done: a scalar of value either 1.0 or 0.0, indicating if the transition is a terminal one.\n",
        "      next_q_values: a vector of q_values for the next state. One for each action.\n",
        "  Returns:\n",
        "      A scalar equal to the bellman target.\n",
        "\n",
        "  \"\"\"\n",
        "  # YOUR CODE\n",
        "  bellman_target = reward + (1.0 - done) * gamma * jnp.max(next_q_values)\n",
        "  # END YOUR CODE\n",
        "\n",
        "  return bellman_target"
      ]
    },
    {
      "cell_type": "code",
      "execution_count": null,
      "metadata": {
        "id": "E5RAhegOWAkC",
        "colab": {
          "base_uri": "https://localhost:8080/"
        },
        "outputId": "6c2917f0-772f-4e04-95bd-39d8e48a7692"
      },
      "outputs": [
        {
          "output_type": "stream",
          "name": "stdout",
          "text": [
            "Looks good.\n"
          ]
        }
      ],
      "source": [
        "#@title Проверка упр 12 {display-mode: \"form\"}\n",
        "\n",
        "try:\n",
        "  # not done\n",
        "  result1 = compute_bellman_target(1, 0.0, np.array([3,2], \"float32\"))\n",
        "\n",
        "  # done\n",
        "  result2 = compute_bellman_target(1, 1.0, np.array([3,2], \"float32\"))\n",
        "\n",
        "  if result1 != 4 or result2 != 1:\n",
        "    print(\"Your implementation looks wrong.\")\n",
        "  else:\n",
        "    print(\"Looks good.\")\n",
        "except Exception as e:\n",
        "  print(\"An Error Occured: {}\".format(e))"
      ]
    },
    {
      "cell_type": "markdown",
      "metadata": {
        "id": "8sIjrHSJZyLq"
      },
      "source": [
        "Теперь мы можем объединить эти две функции, чтобы вычислить потерю для Q-обучения. Потери Q-обучения равны квадрату разницы между прогнозируемым значением Q действия и его соответствующей целью Беллмана.\n",
        "\n",
        "**Упражнение 13:** Реализуйте функцию потери Q-обучения."
      ]
    },
    {
      "cell_type": "code",
      "execution_count": null,
      "metadata": {
        "id": "LJY_kpFcZyLq"
      },
      "outputs": [],
      "source": [
        "def q_learning_loss(q_values, action, reward, done, next_q_values, gamma=1.0):\n",
        "    \"\"\"Implementation of the Q-learning loss.T\n",
        "\n",
        "    Args:\n",
        "        q_values: a vector of Q-values, one for each action.\n",
        "        action: an integer, giving the action that was chosen. q_values[action] is the value of the chose action.\n",
        "        done: is a scalar that indicates if this is a terminal transition.\n",
        "        next_q_values: a vector of Q-values in the next state.\n",
        "    Returns:\n",
        "        The squared difference between the q_value of the chosen action and the bellman target.\n",
        "    \"\"\"\n",
        "    chosen_action_q_value = q_values[action]\n",
        "\n",
        "    bellman_target = compute_bellman_target(reward, done, next_q_values, gamma)\n",
        "\n",
        "    squared_error = jnp.square(chosen_action_q_value - bellman_target)\n",
        "\n",
        "    return squared_error"
      ]
    },
    {
      "cell_type": "code",
      "execution_count": null,
      "metadata": {
        "id": "1aZRn1qaWx2M",
        "colab": {
          "base_uri": "https://localhost:8080/"
        },
        "outputId": "c2f86656-7cb4-41b4-e3a0-1c6247c0715b"
      },
      "outputs": [
        {
          "output_type": "stream",
          "name": "stdout",
          "text": [
            "Looks good.\n"
          ]
        }
      ],
      "source": [
        "#@title Проверка упр 13 {display-mode: \"form\"}\n",
        "\n",
        "try:\n",
        "  result = q_learning_loss(np.array([3,2], \"float32\"), 1, 2, 0.0, np.array([3,2], \"float32\"))\n",
        "\n",
        "  if result != 9.0:\n",
        "    print(\"Your implementation looks wrong.\")\n",
        "  else:\n",
        "    print(\"Looks good.\")\n",
        "except Exception as e:\n",
        "  print(\"An Error Occured: {}\".format(e))"
      ]
    },
    {
      "cell_type": "markdown",
      "metadata": {
        "id": "b4YnSUfJZyLq"
      },
      "source": [
        "### Target Q-network (Целевая Q-сеть)\n",
        "Обратите внимание: когда мы вычисляем цель Беллмана, мы используем нашу Q-сеть $Q_\\theta$ для вычисления значения для следующего состояния $s_t$. По сути, мы используем наше последнее приближение Q-функции для вычисления цели нашего следующего приближения. Использование приближения для вычисления цели для вашего следующего приближения называется самозагрузкой. К сожалению, если мы наивно делаем такую ​​самозагрузку, это может сделать обучение нейронной сети очень нестабильным. Чтобы смягчить это, мы можем вместо этого использовать другой набор параметров $\\hat{\\theta}$ для вычисления значений в состоянии $s_{t+1}$. Мы будем сохранять параметры $\\hat{\\theta}$ фиксированными и только периодически обновлять их, чтобы они были равны последним онлайн-параметрам $\\theta$ каждые пару шагов обучения *(скажем, 100)*. Это позволяет сохранять фиксированные цели Беллмана для пары шагов обучения, чтобы помочь снизить нестабильность из-за самозагрузки.\n",
        "\n",
        "Нам нужно будет отслеживать последние (онлайн) параметры, а также параметры целевых сетей. Давайте создадим `NamedTuple` для хранения этих двух значений. Нам также нужно будет отслеживать количество шагов обучения, которые мы сделали, чтобы знать, когда обновлять целевую сеть. Давайте сохраним `count` шагов обучения в `learn_state`."
      ]
    },
    {
      "cell_type": "code",
      "execution_count": null,
      "metadata": {
        "id": "DvZqUKmq6L7k"
      },
      "outputs": [],
      "source": [
        "# Store online and target parameters\n",
        "QLearnParams = collections.namedtuple(\"Params\", [\"online\", \"target\"])\n",
        "\n",
        "# Q-learn-state\n",
        "QLearnState = collections.namedtuple(\"LearnerState\", [\"count\", \"optim_state\"])"
      ]
    },
    {
      "cell_type": "markdown",
      "metadata": {
        "id": "CJWH2_kNZsau"
      },
      "source": [
        "Мы снова будем использовать Optax для оптимизации нашей нейронной сети в JAX. Мы сохраняем состояние оптимизатора в `learn_state` выше. Давайте теперь создадим экземпляр оптимизатора и добавим начальные параметры Q-сети в объект `QLearnParams`."
      ]
    },
    {
      "cell_type": "code",
      "execution_count": null,
      "metadata": {
        "id": "HwqKTN6BaAXE"
      },
      "outputs": [],
      "source": [
        "# Initialise Q-network optimizer\n",
        "Q_LEARN_OPTIMIZER = optax.adam(3e-4) # learning rate\n",
        "\n",
        "Q_LEARN_OPTIM_STATE = Q_LEARN_OPTIMIZER.init(Q_NETWORK_PARAMS) # initial optim state\n",
        "\n",
        "# Create Learn State\n",
        "Q_LEARNING_LEARN_STATE = QLearnState(0, Q_LEARN_OPTIM_STATE) # count set to zero initially\n",
        "\n",
        "# Add initial Q-network weights to QLearnParams object\n",
        "Q_LEARNING_PARAMS = QLearnParams(online=Q_NETWORK_PARAMS, target=Q_NETWORK_PARAMS) # target equal to online"
      ]
    },
    {
      "cell_type": "markdown",
      "metadata": {
        "id": "xj89M8LgZlFe"
      },
      "source": [
        "Теперь мы можем реализовать простую функцию, которая обновляет параметры целевых сетей, чтобы они соответствовали последним онлайн-параметрам каждые 100 шагов обучения."
      ]
    },
    {
      "cell_type": "code",
      "execution_count": null,
      "metadata": {
        "id": "SKrg_3rO6cCL"
      },
      "outputs": [],
      "source": [
        "def update_target_params(learn_state, online_weights, target_weights):\n",
        "  \"\"\"A function to update target params every 100 training steps\"\"\"\n",
        "\n",
        "  target = jax.lax.cond(\n",
        "      jax.numpy.mod(learn_state.count, 100) == 0,\n",
        "      lambda x, y: x,\n",
        "      lambda x, y: y,\n",
        "      online_weights,\n",
        "      target_weights\n",
        "  )\n",
        "\n",
        "  params = QLearnParams(online_weights, target)\n",
        "\n",
        "  return params"
      ]
    },
    {
      "cell_type": "markdown",
      "metadata": {
        "id": "KoiaYSo9ZyLq"
      },
      "source": [
        "### Q-learning loss (Функция потери Q-обучения)\n",
        "Теперь у нас есть все необходимое для реализации функции `q_learn`, которая принимает некоторую партию переходов и выполняет шаг Q-обучения для обновления параметров сети. Но сначала мы используем `jax.vmap` для изменения функции `q_learning_loss` так, чтобы она принимала партии переходов. Кроме того, мы вычислим Q-значения, передавая наблюдения через `Q_NETWORK`, и целевые Q-значения, используя целевые параметры `Q_NETWORK`."
      ]
    },
    {
      "cell_type": "code",
      "execution_count": null,
      "metadata": {
        "id": "hnrsGppWZyLq"
      },
      "outputs": [],
      "source": [
        "def batched_q_learning_loss(online_params, target_params, obs, actions, rewards, next_obs, dones):\n",
        "    q_values = Q_NETWORK.apply(online_params, obs) # use the online parameters\n",
        "    next_q_values = Q_NETWORK.apply(target_params, next_obs) # use the target parameters\n",
        "    squared_error = jax.vmap(q_learning_loss)(q_values, actions, rewards, dones, next_q_values) # vmap q_learning_loss\n",
        "    mean_squared_error = jnp.mean(squared_error) # mean squared error over batch\n",
        "    return mean_squared_error"
      ]
    },
    {
      "cell_type": "markdown",
      "metadata": {
        "id": "CU8vo9ZebnEa"
      },
      "source": [
        "Теперь мы можем создать функцию `q_learn`, которая вычисляет градиент `batched_q_learning_loss`, а затем использует оптимизатор Optax для обновления весов сети, а затем, наконец (возможно), обновляет целевые параметры."
      ]
    },
    {
      "cell_type": "code",
      "execution_count": null,
      "metadata": {
        "id": "6BYoX2W_ZyLr"
      },
      "outputs": [],
      "source": [
        "def q_learn(rng, params, learner_state, memory):\n",
        "  # Compute gradients\n",
        "  grad_loss = jax.grad(batched_q_learning_loss)(params.online, params.target, memory.obs,\n",
        "                                          memory.action, memory.reward,\n",
        "                                          memory.next_obs, memory.done,\n",
        "                                          ) # jax.grad\n",
        "\n",
        "  # Get updates\n",
        "  updates, opt_state = Q_LEARN_OPTIMIZER.update(grad_loss, learner_state.optim_state)\n",
        "\n",
        "  # Apply them\n",
        "  new_weights = optax.apply_updates(params.online, updates)\n",
        "\n",
        "  # Maybe update target network\n",
        "  params = update_target_params(learner_state, new_weights, params.target)\n",
        "\n",
        "  # Increment learner step counter\n",
        "  learner_state = QLearnState(learner_state.count + 1, opt_state)\n",
        "\n",
        "  return params, learner_state"
      ]
    },
    {
      "cell_type": "markdown",
      "metadata": {
        "id": "VpZsKHssZyLq"
      },
      "source": [
        "### Replay Buffer (Буфер воспроизведения)\n",
        "Для Q-обучения нам понадобится память агента, которая хранит целые переходы: `obs`, `action`, `reward`, `next_obs`, `done`. Когда мы извлекаем переходы из памяти, они должны выбираться случайным образом из всех переходов, собранных до сих пор. В RL мы часто называем такой модуль **буфером воспроизведения**.\n",
        "\n",
        "Одним из преимуществ использования такого буфера воспроизведения является то, что опыт можно повторно использовать несколько раз для обучения, в отличие от алгоритма градиента политики REINFORCE, где мы отбрасывали воспоминания после их использования для обучения."
      ]
    },
    {
      "cell_type": "code",
      "execution_count": null,
      "metadata": {
        "id": "8tv5dUH6ZyLr"
      },
      "outputs": [],
      "source": [
        "class TransitionMemory(object):\n",
        "  \"\"\"A simple Python replay buffer.\"\"\"\n",
        "\n",
        "  def __init__(self, max_size=10_000, batch_size=256):\n",
        "    self.batch_size = batch_size\n",
        "    self.buffer = collections.deque(maxlen=max_size)\n",
        "\n",
        "  def push(self, transition):\n",
        "\n",
        "    # add transition to the replay buffer\n",
        "    self.buffer.append(\n",
        "        (transition.obs, transition.action, transition.reward,\n",
        "          transition.next_obs, transition.done)\n",
        "    )\n",
        "\n",
        "\n",
        "  def is_ready(self):\n",
        "    return self.batch_size <= len(self.buffer)\n",
        "\n",
        "  def sample(self):\n",
        "    # Randomly sample a batch of transitions from the buffer\n",
        "    random_replay_sample = random.sample(self.buffer, self.batch_size)\n",
        "\n",
        "    # Batch the transitions together\n",
        "    obs_batch, action_batch, reward_batch, next_obs_batch, done_batch = zip(*random_replay_sample)\n",
        "\n",
        "    return Transition(\n",
        "        np.stack(obs_batch).astype(\"float32\"),\n",
        "        np.asarray(action_batch).astype(\"int32\"),\n",
        "        np.asarray(reward_batch).astype(\"float32\"),\n",
        "        np.stack(next_obs_batch).astype(\"float32\"),\n",
        "        np.asarray(done_batch).astype(\"float32\")\n",
        "    )\n",
        "\n",
        "# Instantiate the memory\n",
        "Q_LEARNING_MEMORY = TransitionMemory(max_size=50_000, batch_size=256)"
      ]
    },
    {
      "cell_type": "markdown",
      "metadata": {
        "id": "XbHk03VVUHAV"
      },
      "source": [
        "### Случайное исследование\n",
        "У нас почти есть все, что нужно для функционирующего агента Q-обучения. Но одна проблема заключается в том, что если мы всегда выбираем действие с наивысшим значением Q, то политика агента будет полностью [детерминированной](https://www.quora.com/What-is-the-intuitive-difference-between-a-stochastic-model-and-a-deterministic-model). Это означает, что агент всегда будет выбирать одну и ту же стратегию. Это может представлять проблему, поскольку в начале обучения Q-сеть будет очень неточной (т. е. плохой аппроксимацией истинной Q-функции). Таким образом, агент будет последовательно выбирать неоптимальные действия. Более того, агент никогда не отклонится от своей неоптимальной стратегии и никогда не обнаружит новые, потенциально более полезные действия. В результате Q-сеть остается неточной. В идеале агент должен опробовать много разных стратегий, чтобы он мог наблюдать результаты (вознаграждения) своих действий в разных состояниях и таким образом улучшить приближение Q-функции.\n",
        "\n",
        "Один простой способ гарантировать, что агент опробует много разных действий, — позволить ему периодически выбирать некоторые случайные действия вместо жадного (лучшего) действия все время.\n",
        "\n",
        "**Упражнение 14:** Реализуйте функцию, которая, учитывая количество возможных (дискретных) действий, возвращает случайное действие.\n",
        "\n",
        "**Полезные методы:**\n",
        "\n",
        "*  `jax.random.randint` ([docs](https://jax.readthedocs.io/en/latest/_autosummary/jax.random.randint.html))"
      ]
    },
    {
      "cell_type": "code",
      "execution_count": null,
      "metadata": {
        "id": "uUKkpMLXUtko"
      },
      "outputs": [],
      "source": [
        "def select_random_action(key, num_actions):\n",
        "\n",
        "    # YOUR CODE\n",
        "    action = jax.random.randint(key, shape=(), minval=0, maxval=num_actions)\n",
        "    # END YOUR CODE\n",
        "\n",
        "    return action"
      ]
    },
    {
      "cell_type": "code",
      "execution_count": null,
      "metadata": {
        "id": "NO6va6S2Y40E",
        "colab": {
          "base_uri": "https://localhost:8080/"
        },
        "outputId": "6d7709bb-61d0-4ee6-86a3-3b4704c1f7d0"
      },
      "outputs": [
        {
          "output_type": "stream",
          "name": "stdout",
          "text": [
            "Looks good.\n"
          ]
        }
      ],
      "source": [
        "#@title Проверка упр 14 {display-mode: \"form\"}\n",
        "\n",
        "try:\n",
        "  random_key1 = random_key = jax.random.PRNGKey(6) # random key\n",
        "  random_key2 = random_key = jax.random.PRNGKey(1000) # random key\n",
        "  result1 = select_random_action(random_key1, 2)\n",
        "  result2 = select_random_action(random_key2, 2)\n",
        "\n",
        "  if result1 != 1 or result2 != 0:\n",
        "    print(\"Your implementation looks wrong.\")\n",
        "  else:\n",
        "    print(\"Looks good.\")\n",
        "except:\n",
        "  print(\"Your implementation looks wrong.\")"
      ]
    },
    {
      "cell_type": "markdown",
      "metadata": {
        "id": "8-kKDFT6XU6y"
      },
      "source": [
        "### $\\varepsilon$-greedy action selection (эпсилон жадный выбор действия)\n",
        "В начале обучения, когда точность Q-сети низкая, агенту стоит в основном совершать случайные действия, чтобы он мог узнать, насколько хороши/плохи действия. Однако по мере повышения точности Q-сети агент должен начать совершать меньше случайных действий и вместо этого начать выбирать жадные действия относительно Q-значений. Выбор лучших действий с учетом текущей Q-сети называется **эксплуатацией**. В RL мы часто называем отношение случайных и жадных действий **эпсилоном** $\\varepsilon$. Эпсилон обычно представляет собой десятичное значение в интервале $[0,1]$, где, например, $\\varepsilon=0.4$ означает, что агент выбирает случайное действие в 40% случаев, а жадное действие — в 60% случаев. В RL принято линейно уменьшать значение эпсилон с течением времени, так что агент становится все более жадным по мере повышения точности его Q-сети в процессе обучения.\n",
        "\n",
        "**Упражнение 15:** Реализуйте функцию, которая принимает количество временных шагов в качестве входных данных и возвращает текущее значение эпсилон."
      ]
    },
    {
      "cell_type": "code",
      "execution_count": null,
      "metadata": {
        "id": "_qejnbCocurG"
      },
      "outputs": [],
      "source": [
        "EPSILON_DECAY_TIMESTEPS = 3000 # decay epsilon over 3000 timesteps\n",
        "EPSILON_MIN = 0.1 # 10% exploration"
      ]
    },
    {
      "cell_type": "code",
      "execution_count": null,
      "metadata": {
        "id": "5ujSbssCZyLs"
      },
      "outputs": [],
      "source": [
        "def get_epsilon(num_timesteps):\n",
        "    epsilon = 1.0 - (num_timesteps / EPSILON_DECAY_TIMESTEPS) * (1.0 - EPSILON_MIN)\n",
        "\n",
        "    epsilon = jax.lax.select(\n",
        "        epsilon < EPSILON_MIN,\n",
        "        EPSILON_MIN,\n",
        "        epsilon\n",
        "    )\n",
        "\n",
        "    return epsilon"
      ]
    },
    {
      "cell_type": "code",
      "execution_count": null,
      "metadata": {
        "id": "hvu4zA64aUou",
        "colab": {
          "base_uri": "https://localhost:8080/"
        },
        "outputId": "8db9cf0a-b421-44c5-9b08-b8c8ee712717"
      },
      "outputs": [
        {
          "output_type": "stream",
          "name": "stdout",
          "text": [
            "Your function looks wrong.\n"
          ]
        }
      ],
      "source": [
        "#@title Проверка упр 15 {display-mode: \"form\"}\n",
        "def check_get_epsilon(get_epsilon):\n",
        "  try:\n",
        "    result1 = get_epsilon(10)\n",
        "    result2 = get_epsilon(5_010)\n",
        "\n",
        "    if result1 != 0.99666667 or result2 != 0.1:\n",
        "      print(\"Your function looks wrong.\")\n",
        "    else:\n",
        "      print(\"Your function looks correct.\")\n",
        "  except:\n",
        "    print(\"Your function looks wrong.\")\n",
        "\n",
        "check_get_epsilon(get_epsilon)"
      ]
    },
    {
      "cell_type": "markdown",
      "metadata": {
        "id": "t56oo58TVQ_s"
      },
      "source": [
        "**Упражнение 16:** Теперь давайте объединим эти функции для выполнения эпсилон-жадного выбора действия."
      ]
    },
    {
      "cell_type": "code",
      "execution_count": null,
      "metadata": {
        "id": "NlQx8K4vKUXj"
      },
      "outputs": [],
      "source": [
        "def select_epsilon_greedy_action(key, q_values, num_timesteps):\n",
        "    num_actions = len(q_values) # number of available actions\n",
        "\n",
        "    # YOUR CODE HERE\n",
        "    epsilon = get_epsilon(num_timesteps)\n",
        "\n",
        "    # Определяем, нужно ли исследовать (выбирать случайное действие)\n",
        "    should_explore = jax.random.uniform(key) < epsilon  # Если случайное число меньше эпсилон, исследуем\n",
        "\n",
        "    # Выбираем действие\n",
        "    action = jax.lax.select(\n",
        "        should_explore,\n",
        "        jax.random.randint(key, (), 0, num_actions),  # Если исследуем, выбираем случайное действие\n",
        "        jnp.argmax(q_values)  # Если жадно, выбираем действие с максимальным значением Q\n",
        "    )\n",
        "\n",
        "    return action"
      ]
    },
    {
      "cell_type": "code",
      "execution_count": null,
      "metadata": {
        "id": "mkVU2a5e7P6b",
        "colab": {
          "base_uri": "https://localhost:8080/"
        },
        "outputId": "1521f1e6-0297-4877-e409-eca059db17fd"
      },
      "outputs": [
        {
          "output_type": "stream",
          "name": "stdout",
          "text": [
            "Looks correct!\n"
          ]
        }
      ],
      "source": [
        "#@title Проверка упражнения 16 {display-mode: \"form\"}\n",
        "\n",
        "try:\n",
        "  rng = hk.PRNGSequence(jax.random.PRNGKey(42))\n",
        "  dummy_q_values = jnp.array([0,1], jnp.float32)\n",
        "  num_timesteps = 5010 # very greedy\n",
        "  actions1 = []\n",
        "  for i in range(10):\n",
        "      actions1.append(int(select_epsilon_greedy_action(next(rng), dummy_q_values, num_timesteps)))\n",
        "\n",
        "  num_timesteps = 0 # completly random\n",
        "  actions2 = []\n",
        "  for i in range(10):\n",
        "      actions2.append(int(select_epsilon_greedy_action(next(rng), dummy_q_values, num_timesteps)))\n",
        "\n",
        "  if actions1 != [1, 1, 0, 1, 1, 0, 1, 1, 1, 1] or actions2 != [0, 0, 0, 1, 1, 1, 1, 0, 0, 0]:\n",
        "    print(\"Looks like something might be incorrect!\")\n",
        "  else:\n",
        "    print(\"Looks correct!\")\n",
        "except:\n",
        "  print(\"Looks like something might be incorrect!\")"
      ]
    },
    {
      "cell_type": "markdown",
      "metadata": {
        "id": "y5W23MnobN9x"
      },
      "source": [
        "### Действие выбора Q-learning\n",
        "\n",
        "Теперь у нас есть все необходимое для создания функции `q_learning_select_action`. Мы будем использовать `actor_state` для хранения счетчика, который отслеживает текущее количество временных шагов. Мы можем использовать счетчик для уменьшения нашего значения `epsilon`."
      ]
    },
    {
      "cell_type": "code",
      "execution_count": null,
      "metadata": {
        "id": "81TysLc0RjM6"
      },
      "outputs": [],
      "source": [
        "# Actor state stores the current number of timesteps\n",
        "QActorState = collections.namedtuple(\"ActorState\", [\"count\"])\n",
        "\n",
        "def q_learning_select_action(key, params, actor_state, obs, evaluation=False):\n",
        "    obs = jnp.expand_dims(obs, axis=0) # add dummy batch dim\n",
        "    q_values = Q_NETWORK.apply(params.online, obs)[0] # remove batch dim\n",
        "\n",
        "    action = select_epsilon_greedy_action(key, q_values, actor_state.count)\n",
        "    greedy_action = select_greedy_action(q_values)\n",
        "\n",
        "    action = jax.lax.select(\n",
        "        evaluation,\n",
        "        greedy_action,\n",
        "        action\n",
        "    )\n",
        "\n",
        "    next_actor_state = QActorState(actor_state.count + 1) # increment timestep counter\n",
        "\n",
        "    return action, next_actor_state\n",
        "\n",
        "Q_LEARNING_ACTOR_STATE = QActorState(0) # counter set to zero"
      ]
    },
    {
      "cell_type": "markdown",
      "metadata": {
        "id": "z884-1oNRGEr"
      },
      "source": [
        "### Обучение\n",
        "Теперь мы можем собрать все вместе, используя цикл агент-среда. Но сначала давайте объединим функцию выбора действия и функцию обучения для дополнительной скорости."
      ]
    },
    {
      "cell_type": "code",
      "execution_count": null,
      "metadata": {
        "id": "xbdHDbd1RjM8",
        "colab": {
          "base_uri": "https://localhost:8080/",
          "height": 680
        },
        "outputId": "a5a647b5-0537-479f-cc17-d4beff716a70"
      },
      "outputs": [
        {
          "output_type": "stream",
          "name": "stdout",
          "text": [
            "Starting training. This may take up to 8 minutes to complete.\n",
            "Episode: 0\tEpisode Return: 16.0\tAverage Episode Return: 16.0\tEvaluator Episode Return: 11.0\n",
            "Episode: 100\tEpisode Return: 12.0\tAverage Episode Return: 15.3\tEvaluator Episode Return: 9.5\n",
            "Episode: 200\tEpisode Return: 10.0\tAverage Episode Return: 10.3\tEvaluator Episode Return: 9.0\n",
            "Episode: 300\tEpisode Return: 10.0\tAverage Episode Return: 9.65\tEvaluator Episode Return: 9.375\n",
            "Episode: 400\tEpisode Return: 12.0\tAverage Episode Return: 10.15\tEvaluator Episode Return: 9.5\n",
            "Episode: 500\tEpisode Return: 47.0\tAverage Episode Return: 72.4\tEvaluator Episode Return: 61.75\n",
            "Episode: 600\tEpisode Return: 200.0\tAverage Episode Return: 146.4\tEvaluator Episode Return: 163.875\n",
            "Episode: 700\tEpisode Return: 200.0\tAverage Episode Return: 140.85\tEvaluator Episode Return: 199.25\n",
            "Episode: 800\tEpisode Return: 200.0\tAverage Episode Return: 147.3\tEvaluator Episode Return: 188.75\n",
            "Episode: 900\tEpisode Return: 200.0\tAverage Episode Return: 189.25\tEvaluator Episode Return: 200.0\n",
            "Episode: 1000\tEpisode Return: 22.0\tAverage Episode Return: 16.8\tEvaluator Episode Return: 18.75\n"
          ]
        },
        {
          "output_type": "display_data",
          "data": {
            "text/plain": [
              "<Figure size 640x480 with 1 Axes>"
            ],
            "image/png": "[encoded data removed]"
          },
          "metadata": {}
        }
      ],
      "source": [
        "# Jit functions\n",
        "q_learning_select_action_jit = jax.jit(q_learning_select_action)\n",
        "q_learn_jit = jax.jit(q_learn)\n",
        "\n",
        "# Run environment loop\n",
        "print(\"Starting training. This may take up to 8 minutes to complete.\")\n",
        "episode_returns, evaluator_returns = run_training_loop(\n",
        "                                        env_name,\n",
        "                                        Q_LEARNING_PARAMS,\n",
        "                                        q_learning_select_action_jit,\n",
        "                                        Q_LEARNING_ACTOR_STATE,\n",
        "                                        q_learn_jit,\n",
        "                                        Q_LEARNING_LEARN_STATE,\n",
        "                                        Q_LEARNING_MEMORY,\n",
        "                                        num_episodes=1001,\n",
        "                                        train_every_timestep=True, # do learning after every timestep\n",
        "                                        video_subdir=\"q_learning\"\n",
        "                                    )\n",
        "\n",
        "plt.plot(episode_returns)\n",
        "plt.xlabel(\"Episodes\")\n",
        "plt.ylabel(\"Episode Return\")\n",
        "plt.title(\"Deep Q-Learning\")\n",
        "plt.show()"
      ]
    },
    {
      "cell_type": "markdown",
      "metadata": {
        "id": "2k0-41wbpFDE"
      },
      "source": [
        "На этом этапе, как мы надеемся, приближенная Q-функция сошлась к приемлемой политике балансировки шеста в задаче CartPole."
      ]
    },
    {
      "cell_type": "code",
      "execution_count": null,
      "metadata": {
        "id": "t4v0ZbB4FQUs",
        "colab": {
          "base_uri": "https://localhost:8080/",
          "height": 288
        },
        "outputId": "120fec85-3be3-4385-ccf2-c90df43f7de4"
      },
      "outputs": [
        {
          "output_type": "execute_result",
          "data": {
            "text/plain": [
              "<IPython.core.display.HTML object>"
            ],
            "text/html": [
              "\n",
              "<video width=400 controls>\n",
              "      <source src=\"data:video/mp4;base64,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\" type=\"video/mp4\">\n",
              "</video>\n"
            ]
          },
          "metadata": {},
          "execution_count": 79
        }
      ],
      "source": [
        "#@title Визуализация политики\n",
        "#@markdown Выберите номер эпизода, кратный 100 и меньший или равный 1000, и **запустите эту ячейку**.\n",
        "episode_number = 900 #@param {type:\"number\"}\n",
        "\n",
        "assert (episode_number % 100) == 0, \"Episode number must be a multiple of 100 since we only record every 100th episode.\"\n",
        "assert episode_number < 1001, \"Episode number must be less than or equal to 1000\"\n",
        "\n",
        "\n",
        "eval_episode_number = int(episode_number / 100 * 8)\n",
        "video_path = f\"./video/q_learning/eval/rl-video-episode-{eval_episode_number}.mp4\"\n",
        "\n",
        "mp4 = open(video_path,'rb').read()\n",
        "data_url = \"data:video/mp4;base64,\" + b64encode(mp4).decode()\n",
        "HTML(\"\"\"\n",
        "<video width=400 controls>\n",
        "      <source src=\"%s\" type=\"video/mp4\">\n",
        "</video>\n",
        "\"\"\" % data_url)"
      ]
    },
    {
      "cell_type": "markdown",
      "metadata": {
        "id": "fV3YG7QOZD-B"
      },
      "source": [
        "Кроме того, существует множество алгоритмов RL, которые вносят существенные улучшения в REINFORCE и Deep Q-Learning. См. эти ресурсы:\n",
        "* [REINFORCE с базовым уровнем](https://spinningup.openai.com/en/latest/spinningup/rl_intro3.html#baselines-in-policy-gradients)\n",
        "* [Double Deep Q-Network](https://arxiv.org/pdf/1509.06461.pdf)\n",
        "* [Proximal Policy Optimisation (PPO)](https://arxiv.org/pdf/1707.06347.pdf)\n",
        "\n",
        "Если вы ищете более углубленный онлайн-курс по RL, вы можете ознакомиться с этими курсами:\n",
        "* [Reinforcement Learning Foundations on LinkedIn Learning](https://www.linkedin.com/learning/reinforcement-learning-foundations) (создано одним из наших собственных преподавателей, Хаулатом Абдулхакимом)\n",
        "* [Введение в Reinforcement Learning on FreeCodeCamp](https://www.freecodecamp.org/news/an-introduction-to-reinforcement-learning-4339519de419/)\n",
        "* [Специализация обучения с подкреплением на Coursera](https://www.coursera.org/specializations/reinforcement-learning)\n",
        "\n",
        "Наконец, самый влиятельный учебник по обучению с подкреплением доступен бесплатно онлайн:\n",
        "* [Обучение с подкреплением: введение](http://incompleteideas.net/book/the-book-2nd.html) Ричарда С. Саттона и Эндрю Г. Барто\n",
        "\n",
        "\n",
        "**Ссылки:**\n",
        "\n",
        "* [OpenAI Spinning Up](https://spinningup.openai.com/en/latest/)\n",
        "* [Deep Q-Network]()"
      ]
    },
    {
      "cell_type": "code",
      "source": [],
      "metadata": {
        "id": "6V47Vd_i3qk7"
      },
      "execution_count": null,
      "outputs": []
    }
  ],
  "metadata": {
    "colab": {
      "provenance": [],
      "gpuType": "T4",
      "include_colab_link": true
    },
    "kernelspec": {
      "display_name": "Python 3",
      "name": "python3"
    },
    "language_info": {
      "codemirror_mode": {
        "name": "ipython",
        "version": 3
      },
      "file_extension": ".py",
      "mimetype": "text/x-python",
      "name": "python",
      "nbconvert_exporter": "python",
      "pygments_lexer": "ipython3",
      "version": "3.8.13"
    },
    "vscode": {
      "interpreter": {
        "hash": "0f35138c66f99be0fd7a1210bb4aa94a6fbaa5f29d51ad43aec0e0ea0ff050f0"
      }
    }
  },
  "nbformat": 4,
  "nbformat_minor": 0
}